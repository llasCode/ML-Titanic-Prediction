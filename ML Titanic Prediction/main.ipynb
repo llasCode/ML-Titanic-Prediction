{
 "cells": [
  {
   "cell_type": "markdown",
   "id": "bff5356b",
   "metadata": {},
   "source": [
    "# Práctica 2: Aprendizaje Automático"
   ]
  },
  {
   "cell_type": "markdown",
   "id": "0e838a81",
   "metadata": {},
   "source": [
    "## Predicción de supervivencia del Titánic"
   ]
  },
  {
   "cell_type": "markdown",
   "id": "91b8399e",
   "metadata": {},
   "source": [
    "Esta práctica se divide en dos partes:\n",
    "\n",
    "1º: En la primera parte se entrenarán cuatro clasificadores, perceptrón, regresión logística, arboles de decisión y random forest para predecir la probabilidad de supervivencia que tenían los pasajeros a partir de ciertas características. Además de escoger los mejores parámetros para cada modelo.\n",
    "\n",
    "2º: En la segunda parte analizaremos la importancia de cada característica para cada modelo de predicción."
   ]
  },
  {
   "cell_type": "markdown",
   "id": "e613acc4",
   "metadata": {},
   "source": [
    "## 1º Parte"
   ]
  },
  {
   "cell_type": "markdown",
   "id": "0b77c460",
   "metadata": {},
   "source": [
    "Importamos todas las librerías que necesitaremos (es necesario tener instalado la librería seaborn para poder importarla)."
   ]
  },
  {
   "cell_type": "code",
   "execution_count": 1,
   "id": "1549ac42",
   "metadata": {},
   "outputs": [],
   "source": [
    "import numpy as np \n",
    "import pandas as pd\n",
    "import matplotlib.pyplot as plt\n",
    "import seaborn as sb\n",
    "from sklearn.linear_model import LogisticRegression\n",
    "from sklearn import linear_model\n",
    "from sklearn.tree import DecisionTreeClassifier\n",
    "from sklearn.ensemble import RandomForestClassifier\n",
    "from sklearn.linear_model import Perceptron\n",
    "from sklearn.preprocessing import MinMaxScaler\n",
    "from sklearn.model_selection import GridSearchCV\n",
    "from sklearn.preprocessing import StandardScaler \n",
    "\n",
    "\n",
    "from sklearn.datasets import load_iris\n",
    "from sklearn.tree import export_graphviz\n",
    "from sklearn.metrics import classification_report\n",
    "from sklearn.metrics import accuracy_score\n",
    "from sklearn.model_selection import train_test_split\n",
    "\n"
   ]
  },
  {
   "cell_type": "markdown",
   "id": "b0f64089",
   "metadata": {},
   "source": [
    "Cargamos el dataset y miramos que datos tenemos "
   ]
  },
  {
   "cell_type": "code",
   "execution_count": 2,
   "id": "9c687962",
   "metadata": {},
   "outputs": [
    {
     "data": {
      "text/html": [
       "<div>\n",
       "<style scoped>\n",
       "    .dataframe tbody tr th:only-of-type {\n",
       "        vertical-align: middle;\n",
       "    }\n",
       "\n",
       "    .dataframe tbody tr th {\n",
       "        vertical-align: top;\n",
       "    }\n",
       "\n",
       "    .dataframe thead th {\n",
       "        text-align: right;\n",
       "    }\n",
       "</style>\n",
       "<table border=\"1\" class=\"dataframe\">\n",
       "  <thead>\n",
       "    <tr style=\"text-align: right;\">\n",
       "      <th></th>\n",
       "      <th>PassengerId</th>\n",
       "      <th>Survived</th>\n",
       "      <th>Pclass</th>\n",
       "      <th>Name</th>\n",
       "      <th>Sex</th>\n",
       "      <th>Age</th>\n",
       "      <th>SibSp</th>\n",
       "      <th>Parch</th>\n",
       "      <th>Ticket</th>\n",
       "      <th>Fare</th>\n",
       "      <th>Cabin</th>\n",
       "      <th>Embarked</th>\n",
       "    </tr>\n",
       "  </thead>\n",
       "  <tbody>\n",
       "    <tr>\n",
       "      <th>0</th>\n",
       "      <td>1</td>\n",
       "      <td>0</td>\n",
       "      <td>3</td>\n",
       "      <td>Braund, Mr. Owen Harris</td>\n",
       "      <td>male</td>\n",
       "      <td>22.0</td>\n",
       "      <td>1</td>\n",
       "      <td>0</td>\n",
       "      <td>A/5 21171</td>\n",
       "      <td>7.2500</td>\n",
       "      <td>NaN</td>\n",
       "      <td>S</td>\n",
       "    </tr>\n",
       "    <tr>\n",
       "      <th>1</th>\n",
       "      <td>2</td>\n",
       "      <td>1</td>\n",
       "      <td>1</td>\n",
       "      <td>Cumings, Mrs. John Bradley (Florence Briggs Th...</td>\n",
       "      <td>female</td>\n",
       "      <td>38.0</td>\n",
       "      <td>1</td>\n",
       "      <td>0</td>\n",
       "      <td>PC 17599</td>\n",
       "      <td>71.2833</td>\n",
       "      <td>C85</td>\n",
       "      <td>C</td>\n",
       "    </tr>\n",
       "    <tr>\n",
       "      <th>2</th>\n",
       "      <td>3</td>\n",
       "      <td>1</td>\n",
       "      <td>3</td>\n",
       "      <td>Heikkinen, Miss. Laina</td>\n",
       "      <td>female</td>\n",
       "      <td>26.0</td>\n",
       "      <td>0</td>\n",
       "      <td>0</td>\n",
       "      <td>STON/O2. 3101282</td>\n",
       "      <td>7.9250</td>\n",
       "      <td>NaN</td>\n",
       "      <td>S</td>\n",
       "    </tr>\n",
       "    <tr>\n",
       "      <th>3</th>\n",
       "      <td>4</td>\n",
       "      <td>1</td>\n",
       "      <td>1</td>\n",
       "      <td>Futrelle, Mrs. Jacques Heath (Lily May Peel)</td>\n",
       "      <td>female</td>\n",
       "      <td>35.0</td>\n",
       "      <td>1</td>\n",
       "      <td>0</td>\n",
       "      <td>113803</td>\n",
       "      <td>53.1000</td>\n",
       "      <td>C123</td>\n",
       "      <td>S</td>\n",
       "    </tr>\n",
       "    <tr>\n",
       "      <th>4</th>\n",
       "      <td>5</td>\n",
       "      <td>0</td>\n",
       "      <td>3</td>\n",
       "      <td>Allen, Mr. William Henry</td>\n",
       "      <td>male</td>\n",
       "      <td>35.0</td>\n",
       "      <td>0</td>\n",
       "      <td>0</td>\n",
       "      <td>373450</td>\n",
       "      <td>8.0500</td>\n",
       "      <td>NaN</td>\n",
       "      <td>S</td>\n",
       "    </tr>\n",
       "    <tr>\n",
       "      <th>5</th>\n",
       "      <td>6</td>\n",
       "      <td>0</td>\n",
       "      <td>3</td>\n",
       "      <td>Moran, Mr. James</td>\n",
       "      <td>male</td>\n",
       "      <td>NaN</td>\n",
       "      <td>0</td>\n",
       "      <td>0</td>\n",
       "      <td>330877</td>\n",
       "      <td>8.4583</td>\n",
       "      <td>NaN</td>\n",
       "      <td>Q</td>\n",
       "    </tr>\n",
       "    <tr>\n",
       "      <th>6</th>\n",
       "      <td>7</td>\n",
       "      <td>0</td>\n",
       "      <td>1</td>\n",
       "      <td>McCarthy, Mr. Timothy J</td>\n",
       "      <td>male</td>\n",
       "      <td>54.0</td>\n",
       "      <td>0</td>\n",
       "      <td>0</td>\n",
       "      <td>17463</td>\n",
       "      <td>51.8625</td>\n",
       "      <td>E46</td>\n",
       "      <td>S</td>\n",
       "    </tr>\n",
       "    <tr>\n",
       "      <th>7</th>\n",
       "      <td>8</td>\n",
       "      <td>0</td>\n",
       "      <td>3</td>\n",
       "      <td>Palsson, Master. Gosta Leonard</td>\n",
       "      <td>male</td>\n",
       "      <td>2.0</td>\n",
       "      <td>3</td>\n",
       "      <td>1</td>\n",
       "      <td>349909</td>\n",
       "      <td>21.0750</td>\n",
       "      <td>NaN</td>\n",
       "      <td>S</td>\n",
       "    </tr>\n",
       "    <tr>\n",
       "      <th>8</th>\n",
       "      <td>9</td>\n",
       "      <td>1</td>\n",
       "      <td>3</td>\n",
       "      <td>Johnson, Mrs. Oscar W (Elisabeth Vilhelmina Berg)</td>\n",
       "      <td>female</td>\n",
       "      <td>27.0</td>\n",
       "      <td>0</td>\n",
       "      <td>2</td>\n",
       "      <td>347742</td>\n",
       "      <td>11.1333</td>\n",
       "      <td>NaN</td>\n",
       "      <td>S</td>\n",
       "    </tr>\n",
       "    <tr>\n",
       "      <th>9</th>\n",
       "      <td>10</td>\n",
       "      <td>1</td>\n",
       "      <td>2</td>\n",
       "      <td>Nasser, Mrs. Nicholas (Adele Achem)</td>\n",
       "      <td>female</td>\n",
       "      <td>14.0</td>\n",
       "      <td>1</td>\n",
       "      <td>0</td>\n",
       "      <td>237736</td>\n",
       "      <td>30.0708</td>\n",
       "      <td>NaN</td>\n",
       "      <td>C</td>\n",
       "    </tr>\n",
       "    <tr>\n",
       "      <th>10</th>\n",
       "      <td>11</td>\n",
       "      <td>1</td>\n",
       "      <td>3</td>\n",
       "      <td>Sandstrom, Miss. Marguerite Rut</td>\n",
       "      <td>female</td>\n",
       "      <td>4.0</td>\n",
       "      <td>1</td>\n",
       "      <td>1</td>\n",
       "      <td>PP 9549</td>\n",
       "      <td>16.7000</td>\n",
       "      <td>G6</td>\n",
       "      <td>S</td>\n",
       "    </tr>\n",
       "    <tr>\n",
       "      <th>11</th>\n",
       "      <td>12</td>\n",
       "      <td>1</td>\n",
       "      <td>1</td>\n",
       "      <td>Bonnell, Miss. Elizabeth</td>\n",
       "      <td>female</td>\n",
       "      <td>58.0</td>\n",
       "      <td>0</td>\n",
       "      <td>0</td>\n",
       "      <td>113783</td>\n",
       "      <td>26.5500</td>\n",
       "      <td>C103</td>\n",
       "      <td>S</td>\n",
       "    </tr>\n",
       "    <tr>\n",
       "      <th>12</th>\n",
       "      <td>13</td>\n",
       "      <td>0</td>\n",
       "      <td>3</td>\n",
       "      <td>Saundercock, Mr. William Henry</td>\n",
       "      <td>male</td>\n",
       "      <td>20.0</td>\n",
       "      <td>0</td>\n",
       "      <td>0</td>\n",
       "      <td>A/5. 2151</td>\n",
       "      <td>8.0500</td>\n",
       "      <td>NaN</td>\n",
       "      <td>S</td>\n",
       "    </tr>\n",
       "    <tr>\n",
       "      <th>13</th>\n",
       "      <td>14</td>\n",
       "      <td>0</td>\n",
       "      <td>3</td>\n",
       "      <td>Andersson, Mr. Anders Johan</td>\n",
       "      <td>male</td>\n",
       "      <td>39.0</td>\n",
       "      <td>1</td>\n",
       "      <td>5</td>\n",
       "      <td>347082</td>\n",
       "      <td>31.2750</td>\n",
       "      <td>NaN</td>\n",
       "      <td>S</td>\n",
       "    </tr>\n",
       "    <tr>\n",
       "      <th>14</th>\n",
       "      <td>15</td>\n",
       "      <td>0</td>\n",
       "      <td>3</td>\n",
       "      <td>Vestrom, Miss. Hulda Amanda Adolfina</td>\n",
       "      <td>female</td>\n",
       "      <td>14.0</td>\n",
       "      <td>0</td>\n",
       "      <td>0</td>\n",
       "      <td>350406</td>\n",
       "      <td>7.8542</td>\n",
       "      <td>NaN</td>\n",
       "      <td>S</td>\n",
       "    </tr>\n",
       "  </tbody>\n",
       "</table>\n",
       "</div>"
      ],
      "text/plain": [
       "    PassengerId  Survived  Pclass  \\\n",
       "0             1         0       3   \n",
       "1             2         1       1   \n",
       "2             3         1       3   \n",
       "3             4         1       1   \n",
       "4             5         0       3   \n",
       "5             6         0       3   \n",
       "6             7         0       1   \n",
       "7             8         0       3   \n",
       "8             9         1       3   \n",
       "9            10         1       2   \n",
       "10           11         1       3   \n",
       "11           12         1       1   \n",
       "12           13         0       3   \n",
       "13           14         0       3   \n",
       "14           15         0       3   \n",
       "\n",
       "                                                 Name     Sex   Age  SibSp  \\\n",
       "0                             Braund, Mr. Owen Harris    male  22.0      1   \n",
       "1   Cumings, Mrs. John Bradley (Florence Briggs Th...  female  38.0      1   \n",
       "2                              Heikkinen, Miss. Laina  female  26.0      0   \n",
       "3        Futrelle, Mrs. Jacques Heath (Lily May Peel)  female  35.0      1   \n",
       "4                            Allen, Mr. William Henry    male  35.0      0   \n",
       "5                                    Moran, Mr. James    male   NaN      0   \n",
       "6                             McCarthy, Mr. Timothy J    male  54.0      0   \n",
       "7                      Palsson, Master. Gosta Leonard    male   2.0      3   \n",
       "8   Johnson, Mrs. Oscar W (Elisabeth Vilhelmina Berg)  female  27.0      0   \n",
       "9                 Nasser, Mrs. Nicholas (Adele Achem)  female  14.0      1   \n",
       "10                    Sandstrom, Miss. Marguerite Rut  female   4.0      1   \n",
       "11                           Bonnell, Miss. Elizabeth  female  58.0      0   \n",
       "12                     Saundercock, Mr. William Henry    male  20.0      0   \n",
       "13                        Andersson, Mr. Anders Johan    male  39.0      1   \n",
       "14               Vestrom, Miss. Hulda Amanda Adolfina  female  14.0      0   \n",
       "\n",
       "    Parch            Ticket     Fare Cabin Embarked  \n",
       "0       0         A/5 21171   7.2500   NaN        S  \n",
       "1       0          PC 17599  71.2833   C85        C  \n",
       "2       0  STON/O2. 3101282   7.9250   NaN        S  \n",
       "3       0            113803  53.1000  C123        S  \n",
       "4       0            373450   8.0500   NaN        S  \n",
       "5       0            330877   8.4583   NaN        Q  \n",
       "6       0             17463  51.8625   E46        S  \n",
       "7       1            349909  21.0750   NaN        S  \n",
       "8       2            347742  11.1333   NaN        S  \n",
       "9       0            237736  30.0708   NaN        C  \n",
       "10      1           PP 9549  16.7000    G6        S  \n",
       "11      0            113783  26.5500  C103        S  \n",
       "12      0         A/5. 2151   8.0500   NaN        S  \n",
       "13      5            347082  31.2750   NaN        S  \n",
       "14      0            350406   7.8542   NaN        S  "
      ]
     },
     "execution_count": 2,
     "metadata": {},
     "output_type": "execute_result"
    }
   ],
   "source": [
    "df = pd.read_csv(\"dades.csv\")\n",
    "df.head(15)\n"
   ]
  },
  {
   "cell_type": "markdown",
   "id": "a7555e60",
   "metadata": {},
   "source": [
    "Un resumen básico estadístico "
   ]
  },
  {
   "cell_type": "code",
   "execution_count": 3,
   "id": "463ef1bb",
   "metadata": {},
   "outputs": [
    {
     "data": {
      "text/html": [
       "<div>\n",
       "<style scoped>\n",
       "    .dataframe tbody tr th:only-of-type {\n",
       "        vertical-align: middle;\n",
       "    }\n",
       "\n",
       "    .dataframe tbody tr th {\n",
       "        vertical-align: top;\n",
       "    }\n",
       "\n",
       "    .dataframe thead th {\n",
       "        text-align: right;\n",
       "    }\n",
       "</style>\n",
       "<table border=\"1\" class=\"dataframe\">\n",
       "  <thead>\n",
       "    <tr style=\"text-align: right;\">\n",
       "      <th></th>\n",
       "      <th>PassengerId</th>\n",
       "      <th>Survived</th>\n",
       "      <th>Pclass</th>\n",
       "      <th>Name</th>\n",
       "      <th>Sex</th>\n",
       "      <th>Age</th>\n",
       "      <th>SibSp</th>\n",
       "      <th>Parch</th>\n",
       "      <th>Ticket</th>\n",
       "      <th>Fare</th>\n",
       "      <th>Cabin</th>\n",
       "      <th>Embarked</th>\n",
       "    </tr>\n",
       "  </thead>\n",
       "  <tbody>\n",
       "    <tr>\n",
       "      <th>count</th>\n",
       "      <td>891.000000</td>\n",
       "      <td>891.000000</td>\n",
       "      <td>891.000000</td>\n",
       "      <td>891</td>\n",
       "      <td>891</td>\n",
       "      <td>714.000000</td>\n",
       "      <td>891.000000</td>\n",
       "      <td>891.000000</td>\n",
       "      <td>891</td>\n",
       "      <td>891.000000</td>\n",
       "      <td>204</td>\n",
       "      <td>889</td>\n",
       "    </tr>\n",
       "    <tr>\n",
       "      <th>unique</th>\n",
       "      <td>NaN</td>\n",
       "      <td>NaN</td>\n",
       "      <td>NaN</td>\n",
       "      <td>891</td>\n",
       "      <td>2</td>\n",
       "      <td>NaN</td>\n",
       "      <td>NaN</td>\n",
       "      <td>NaN</td>\n",
       "      <td>681</td>\n",
       "      <td>NaN</td>\n",
       "      <td>147</td>\n",
       "      <td>3</td>\n",
       "    </tr>\n",
       "    <tr>\n",
       "      <th>top</th>\n",
       "      <td>NaN</td>\n",
       "      <td>NaN</td>\n",
       "      <td>NaN</td>\n",
       "      <td>Braund, Mr. Owen Harris</td>\n",
       "      <td>male</td>\n",
       "      <td>NaN</td>\n",
       "      <td>NaN</td>\n",
       "      <td>NaN</td>\n",
       "      <td>347082</td>\n",
       "      <td>NaN</td>\n",
       "      <td>B96 B98</td>\n",
       "      <td>S</td>\n",
       "    </tr>\n",
       "    <tr>\n",
       "      <th>freq</th>\n",
       "      <td>NaN</td>\n",
       "      <td>NaN</td>\n",
       "      <td>NaN</td>\n",
       "      <td>1</td>\n",
       "      <td>577</td>\n",
       "      <td>NaN</td>\n",
       "      <td>NaN</td>\n",
       "      <td>NaN</td>\n",
       "      <td>7</td>\n",
       "      <td>NaN</td>\n",
       "      <td>4</td>\n",
       "      <td>644</td>\n",
       "    </tr>\n",
       "    <tr>\n",
       "      <th>mean</th>\n",
       "      <td>446.000000</td>\n",
       "      <td>0.383838</td>\n",
       "      <td>2.308642</td>\n",
       "      <td>NaN</td>\n",
       "      <td>NaN</td>\n",
       "      <td>29.699118</td>\n",
       "      <td>0.523008</td>\n",
       "      <td>0.381594</td>\n",
       "      <td>NaN</td>\n",
       "      <td>32.204208</td>\n",
       "      <td>NaN</td>\n",
       "      <td>NaN</td>\n",
       "    </tr>\n",
       "    <tr>\n",
       "      <th>std</th>\n",
       "      <td>257.353842</td>\n",
       "      <td>0.486592</td>\n",
       "      <td>0.836071</td>\n",
       "      <td>NaN</td>\n",
       "      <td>NaN</td>\n",
       "      <td>14.526497</td>\n",
       "      <td>1.102743</td>\n",
       "      <td>0.806057</td>\n",
       "      <td>NaN</td>\n",
       "      <td>49.693429</td>\n",
       "      <td>NaN</td>\n",
       "      <td>NaN</td>\n",
       "    </tr>\n",
       "    <tr>\n",
       "      <th>min</th>\n",
       "      <td>1.000000</td>\n",
       "      <td>0.000000</td>\n",
       "      <td>1.000000</td>\n",
       "      <td>NaN</td>\n",
       "      <td>NaN</td>\n",
       "      <td>0.420000</td>\n",
       "      <td>0.000000</td>\n",
       "      <td>0.000000</td>\n",
       "      <td>NaN</td>\n",
       "      <td>0.000000</td>\n",
       "      <td>NaN</td>\n",
       "      <td>NaN</td>\n",
       "    </tr>\n",
       "    <tr>\n",
       "      <th>25%</th>\n",
       "      <td>223.500000</td>\n",
       "      <td>0.000000</td>\n",
       "      <td>2.000000</td>\n",
       "      <td>NaN</td>\n",
       "      <td>NaN</td>\n",
       "      <td>20.125000</td>\n",
       "      <td>0.000000</td>\n",
       "      <td>0.000000</td>\n",
       "      <td>NaN</td>\n",
       "      <td>7.910400</td>\n",
       "      <td>NaN</td>\n",
       "      <td>NaN</td>\n",
       "    </tr>\n",
       "    <tr>\n",
       "      <th>50%</th>\n",
       "      <td>446.000000</td>\n",
       "      <td>0.000000</td>\n",
       "      <td>3.000000</td>\n",
       "      <td>NaN</td>\n",
       "      <td>NaN</td>\n",
       "      <td>28.000000</td>\n",
       "      <td>0.000000</td>\n",
       "      <td>0.000000</td>\n",
       "      <td>NaN</td>\n",
       "      <td>14.454200</td>\n",
       "      <td>NaN</td>\n",
       "      <td>NaN</td>\n",
       "    </tr>\n",
       "    <tr>\n",
       "      <th>75%</th>\n",
       "      <td>668.500000</td>\n",
       "      <td>1.000000</td>\n",
       "      <td>3.000000</td>\n",
       "      <td>NaN</td>\n",
       "      <td>NaN</td>\n",
       "      <td>38.000000</td>\n",
       "      <td>1.000000</td>\n",
       "      <td>0.000000</td>\n",
       "      <td>NaN</td>\n",
       "      <td>31.000000</td>\n",
       "      <td>NaN</td>\n",
       "      <td>NaN</td>\n",
       "    </tr>\n",
       "    <tr>\n",
       "      <th>max</th>\n",
       "      <td>891.000000</td>\n",
       "      <td>1.000000</td>\n",
       "      <td>3.000000</td>\n",
       "      <td>NaN</td>\n",
       "      <td>NaN</td>\n",
       "      <td>80.000000</td>\n",
       "      <td>8.000000</td>\n",
       "      <td>6.000000</td>\n",
       "      <td>NaN</td>\n",
       "      <td>512.329200</td>\n",
       "      <td>NaN</td>\n",
       "      <td>NaN</td>\n",
       "    </tr>\n",
       "  </tbody>\n",
       "</table>\n",
       "</div>"
      ],
      "text/plain": [
       "        PassengerId    Survived      Pclass                     Name   Sex  \\\n",
       "count    891.000000  891.000000  891.000000                      891   891   \n",
       "unique          NaN         NaN         NaN                      891     2   \n",
       "top             NaN         NaN         NaN  Braund, Mr. Owen Harris  male   \n",
       "freq            NaN         NaN         NaN                        1   577   \n",
       "mean     446.000000    0.383838    2.308642                      NaN   NaN   \n",
       "std      257.353842    0.486592    0.836071                      NaN   NaN   \n",
       "min        1.000000    0.000000    1.000000                      NaN   NaN   \n",
       "25%      223.500000    0.000000    2.000000                      NaN   NaN   \n",
       "50%      446.000000    0.000000    3.000000                      NaN   NaN   \n",
       "75%      668.500000    1.000000    3.000000                      NaN   NaN   \n",
       "max      891.000000    1.000000    3.000000                      NaN   NaN   \n",
       "\n",
       "               Age       SibSp       Parch  Ticket        Fare    Cabin  \\\n",
       "count   714.000000  891.000000  891.000000     891  891.000000      204   \n",
       "unique         NaN         NaN         NaN     681         NaN      147   \n",
       "top            NaN         NaN         NaN  347082         NaN  B96 B98   \n",
       "freq           NaN         NaN         NaN       7         NaN        4   \n",
       "mean     29.699118    0.523008    0.381594     NaN   32.204208      NaN   \n",
       "std      14.526497    1.102743    0.806057     NaN   49.693429      NaN   \n",
       "min       0.420000    0.000000    0.000000     NaN    0.000000      NaN   \n",
       "25%      20.125000    0.000000    0.000000     NaN    7.910400      NaN   \n",
       "50%      28.000000    0.000000    0.000000     NaN   14.454200      NaN   \n",
       "75%      38.000000    1.000000    0.000000     NaN   31.000000      NaN   \n",
       "max      80.000000    8.000000    6.000000     NaN  512.329200      NaN   \n",
       "\n",
       "       Embarked  \n",
       "count       889  \n",
       "unique        3  \n",
       "top           S  \n",
       "freq        644  \n",
       "mean        NaN  \n",
       "std         NaN  \n",
       "min         NaN  \n",
       "25%         NaN  \n",
       "50%         NaN  \n",
       "75%         NaN  \n",
       "max         NaN  "
      ]
     },
     "execution_count": 3,
     "metadata": {},
     "output_type": "execute_result"
    }
   ],
   "source": [
    "df.describe(include = \"all\")"
   ]
  },
  {
   "cell_type": "markdown",
   "id": "f9fa85be",
   "metadata": {},
   "source": [
    "Como podemos observar en el dataset, tenemos las siguientes características:\n",
    "\n",
    "\n",
    "-Características numéricas: edad (contínua), tarifa (contínua), SibSp (discreta), Parch (discreta)\n",
    "    \n",
    "-Características categóricas: Survived, Sex, Embarked, Pclass\n",
    "    \n",
    "-Características alfanuméricas: Ticket, cabin\n",
    "\n",
    "Los tipos de datos para cada característica son:\n",
    "\n",
    "* Passenger ID: int\n",
    "* Survived: int\n",
    "* Pclase: int\n",
    "* Name: String\n",
    "* Sex: String\n",
    "* Age: float\n",
    "* SibSp: int\n",
    "* Parch: int\n",
    "* Ticket: String\n",
    "* Fare: float\n",
    "* Cabin: String\n",
    "* Embarked: String\n",
    "\n",
    "\n"
   ]
  },
  {
   "cell_type": "markdown",
   "id": "18711d7d",
   "metadata": {},
   "source": [
    "Como se puede observar hay datos Nans, es decir que faltan datos para ciertas características, veamos cuántos faltan exactamente mediante la siguiente función, missingdata()."
   ]
  },
  {
   "cell_type": "code",
   "execution_count": 4,
   "id": "63979b19",
   "metadata": {},
   "outputs": [],
   "source": [
    "def missingdata(data):\n",
    "    total = data.isnull().sum().sort_values(ascending = False)\n",
    "    percent = (data.isnull().sum()/data.isnull().count()*100).sort_values(ascending = False)\n",
    "    ms=pd.concat([total, percent], axis=1, keys=['Total', 'Porcentaje'])\n",
    "    ms= ms[ms[\"Porcentaje\"] > 0]\n",
    "    return ms"
   ]
  },
  {
   "cell_type": "code",
   "execution_count": 5,
   "id": "a998e48c",
   "metadata": {},
   "outputs": [
    {
     "data": {
      "text/html": [
       "<div>\n",
       "<style scoped>\n",
       "    .dataframe tbody tr th:only-of-type {\n",
       "        vertical-align: middle;\n",
       "    }\n",
       "\n",
       "    .dataframe tbody tr th {\n",
       "        vertical-align: top;\n",
       "    }\n",
       "\n",
       "    .dataframe thead th {\n",
       "        text-align: right;\n",
       "    }\n",
       "</style>\n",
       "<table border=\"1\" class=\"dataframe\">\n",
       "  <thead>\n",
       "    <tr style=\"text-align: right;\">\n",
       "      <th></th>\n",
       "      <th>Total</th>\n",
       "      <th>Porcentaje</th>\n",
       "    </tr>\n",
       "  </thead>\n",
       "  <tbody>\n",
       "    <tr>\n",
       "      <th>Cabin</th>\n",
       "      <td>687</td>\n",
       "      <td>77.104377</td>\n",
       "    </tr>\n",
       "    <tr>\n",
       "      <th>Age</th>\n",
       "      <td>177</td>\n",
       "      <td>19.865320</td>\n",
       "    </tr>\n",
       "    <tr>\n",
       "      <th>Embarked</th>\n",
       "      <td>2</td>\n",
       "      <td>0.224467</td>\n",
       "    </tr>\n",
       "  </tbody>\n",
       "</table>\n",
       "</div>"
      ],
      "text/plain": [
       "          Total  Porcentaje\n",
       "Cabin       687   77.104377\n",
       "Age         177   19.865320\n",
       "Embarked      2    0.224467"
      ]
     },
     "execution_count": 5,
     "metadata": {},
     "output_type": "execute_result"
    }
   ],
   "source": [
    "missingdata(df)"
   ]
  },
  {
   "cell_type": "markdown",
   "id": "a53bbf12",
   "metadata": {},
   "source": [
    "Como podemos observar hay un total de 866 datos que no se encuentran, siendo la característica Cabin la que más datos le faltan con 687, para arreglar esto o bien podemos eliminar la columna entera o bien podemos convertir esta característica en una  binaria donde indicaremos con 1 si los pasajeros tenían Cabina o 0 si no tenían cabina ya que se sabe que en el Titanic no todo el mundo tenía cabina. Para la característica de la edad rellenaremos los datos que faltan con la mediana, ya que es adecuada para este caso, para los dos 2 datos que faltan de embarked los rellenaremos con el valor de moda, es decir el valor de embarked que más se repita.\n",
    "\n",
    "\n",
    "\n",
    "Como hemos visto antes hay 12 características de las cuales 5 son de tipo String, para poder trabajar con ellas tendremos que convertirlas a datos numéricos en los casos que se puedan.\n",
    "\n",
    "* Name: String --> no se puede\n",
    "* Sex: String --> 0 (male) o 1 (female) \n",
    "* Ticket: String --> no se puede\n",
    "* Cabin: String --> 1 (tiene) 0 (no tiene)\n",
    "* Embarked: String --> \"S\": 1, \"C\": 2, \"Q\": 3\n"
   ]
  },
  {
   "cell_type": "markdown",
   "id": "7644b609",
   "metadata": {},
   "source": [
    "#### Algunas suposiciones\n",
    "\n",
    "* Las mujeres y los niños tienen más probabilidad de sobrevivir por el protocolo de mujeres y niños/niñas primero, por lo tanto miraremos las categorías de Sex y de Age.\n",
    "    \n",
    "* La clase social puede influir el tener o no tener recursos, por lo tanto se mirará que tipo de ticket tenían (Primera clase, Segunda clase, Tercera clase), por lo que se mirara la categoría de PClass\n",
    "    "
   ]
  },
  {
   "cell_type": "markdown",
   "id": "dfd4d087",
   "metadata": {},
   "source": [
    "## Visualizar datos\n",
    "Miraremos si las suposiciones están en lo correcto"
   ]
  },
  {
   "cell_type": "markdown",
   "id": "0b8e638f",
   "metadata": {},
   "source": [
    "#### Categoría Sex\n",
    "\n",
    "Miramos dentro de los supervivientes cuántos son hombres y cuanto mujeres"
   ]
  },
  {
   "cell_type": "code",
   "execution_count": 6,
   "id": "4f7ff05c",
   "metadata": {},
   "outputs": [
    {
     "data": {
      "text/plain": [
       "<AxesSubplot:xlabel='Sex', ylabel='Survived'>"
      ]
     },
     "execution_count": 6,
     "metadata": {},
     "output_type": "execute_result"
    },
    {
     "data": {
      "image/png": "[encoded data removed]",
      "text/plain": [
       "<Figure size 640x480 with 1 Axes>"
      ]
     },
     "metadata": {},
     "output_type": "display_data"
    }
   ],
   "source": [
    "sb.barplot(x=\"Sex\", y=\"Survived\", data=df)"
   ]
  },
  {
   "cell_type": "markdown",
   "id": "452fe0c3",
   "metadata": {},
   "source": [
    "La gran mayoría de mujeres sobrevivieron mientras que solo un 20% de los hombres sobrevivieron"
   ]
  },
  {
   "cell_type": "markdown",
   "id": "2f6d5c3f",
   "metadata": {},
   "source": [
    "#### Categoría Pclass\n",
    "Ahora con el tipo de clase (Primera, Segunda, Tercera)"
   ]
  },
  {
   "cell_type": "code",
   "execution_count": 7,
   "id": "8353c09b",
   "metadata": {},
   "outputs": [
    {
     "data": {
      "text/plain": [
       "<AxesSubplot:xlabel='Pclass', ylabel='Survived'>"
      ]
     },
     "execution_count": 7,
     "metadata": {},
     "output_type": "execute_result"
    },
    {
     "data": {
      "image/png": "[encoded data removed]",
      "text/plain": [
       "<Figure size 640x480 with 1 Axes>"
      ]
     },
     "metadata": {},
     "output_type": "display_data"
    }
   ],
   "source": [
    "sb.barplot(x=\"Pclass\", y=\"Survived\", data=df)"
   ]
  },
  {
   "cell_type": "markdown",
   "id": "eb31ee18",
   "metadata": {},
   "source": [
    "Como se puede observar más de la mitad de los que eran de primera clase sobrevivieron, mientras que los que iban en tercera pereció mas del 70%, eso nos da a entender que el dato cabina puede ser útil, ya que los que solían tener cabina eran los de primera clase, así como el precio que pagaron por el ticket"
   ]
  },
  {
   "cell_type": "markdown",
   "id": "6b8860aa",
   "metadata": {},
   "source": [
    "#### Categoría  Age\n",
    "Miramos la edad y la clasificaremos por rangos de edad, hay que recordar que hay parte de los pasajeros que no tienen edad ya que es desconocida."
   ]
  },
  {
   "cell_type": "code",
   "execution_count": 8,
   "id": "7a663a4f",
   "metadata": {},
   "outputs": [
    {
     "data": {
      "image/png": "[encoded data removed]",
      "text/plain": [
       "<Figure size 640x480 with 1 Axes>"
      ]
     },
     "metadata": {},
     "output_type": "display_data"
    }
   ],
   "source": [
    "tmp_df = df.copy()\n",
    "tmp_df[\"Age\"] = tmp_df[\"Age\"].fillna(-0.5)\n",
    "bins = [-1, 0, 5, 12, 18, 35, 60, np.inf]\n",
    "labels = ['Desconocida', 'Bebes', 'Niño/as', 'Adolescentes', 'Joven_Adultos', 'Adultos', 'Tercera edad']\n",
    "tmp_df['Rangos de Edad'] = pd.cut(tmp_df[\"Age\"], bins, labels = labels)\n",
    "\n",
    "#draw a bar plot of Age vs. survival\n",
    "sb.barplot(x=\"Rangos de Edad\", y=\"Survived\", data=tmp_df)\n",
    "plt.xticks(rotation=\"45\")\n",
    "plt.show()"
   ]
  },
  {
   "cell_type": "markdown",
   "id": "b1711f7f",
   "metadata": {},
   "source": [
    "Se puede apreciar que los bebes tenían una tasa más alta de supervivencia junto con los adolescentes, curiosamente no con los niños de entre 5 y 12 años, eso podría ser debido a que la mayoría son de clase social inferior."
   ]
  },
  {
   "cell_type": "markdown",
   "id": "65d7f92e",
   "metadata": {},
   "source": [
    "#### Porcentaje de niños y niñas supervivientes según la clase"
   ]
  },
  {
   "cell_type": "code",
   "execution_count": 9,
   "id": "a5484d15",
   "metadata": {},
   "outputs": [
    {
     "data": {
      "text/plain": [
       "<AxesSubplot:xlabel='Pclass', ylabel='Survived'>"
      ]
     },
     "execution_count": 9,
     "metadata": {},
     "output_type": "execute_result"
    },
    {
     "data": {
      "image/png": "[encoded data removed]",
      "text/plain": [
       "<Figure size 640x480 with 1 Axes>"
      ]
     },
     "metadata": {},
     "output_type": "display_data"
    }
   ],
   "source": [
    "df_temp_children = df[(df[\"Age\"] >= 5) & (df[\"Age\"] <= 12)]\n",
    "sb.barplot(x=\"Pclass\",y=\"Survived\", data=df_temp_children)"
   ]
  },
  {
   "cell_type": "markdown",
   "id": "63b5c879",
   "metadata": {},
   "source": [
    "#### Cantidad total de niños y niñas de cada clase"
   ]
  },
  {
   "cell_type": "code",
   "execution_count": 10,
   "id": "b72e7cab",
   "metadata": {},
   "outputs": [
    {
     "data": {
      "text/plain": [
       "<AxesSubplot:xlabel='Pclass', ylabel='count'>"
      ]
     },
     "execution_count": 10,
     "metadata": {},
     "output_type": "execute_result"
    },
    {
     "data": {
      "image/png": "[encoded data removed]",
      "text/plain": [
       "<Figure size 640x480 with 1 Axes>"
      ]
     },
     "metadata": {},
     "output_type": "display_data"
    }
   ],
   "source": [
    "sb.countplot(x=\"Pclass\", data=df_temp_children)"
   ]
  },
  {
   "cell_type": "markdown",
   "id": "051d6eb7",
   "metadata": {},
   "source": [
    "Como se puede ver hay más niños y niñas de la clase 3, que de las otras y al estar en una clase menos privilegiada parace ser que se aumenta el riesgo de morir, al menos entre la franja de edad de entre 5 a 12 años."
   ]
  },
  {
   "cell_type": "markdown",
   "id": "4ef693a7",
   "metadata": {},
   "source": [
    "## Ajuste de los datos"
   ]
  },
  {
   "cell_type": "markdown",
   "id": "20561ff0",
   "metadata": {},
   "source": [
    "Como podemos observar y hemos mencionado antes los datos están en bruto, ademas hay información  irrelevante, es decir hay características que no aportan nada de información como PassagerId, Name, Ticket, por tanto se pueden eliminar, también hay presencia de valores NaN, es decir que faltan datos. Además de esto, hay datos categóricos, que tendremos que convertir en numéricos."
   ]
  },
  {
   "cell_type": "markdown",
   "id": "8e038f51",
   "metadata": {},
   "source": [
    "Como hemos mencionado antes la característica Cabin o se puede eliminar o bien se puede convertir en binaria, vamos a convertirla en binaria donde 1 indicará si el pasajero tiene cabina y 0 si no tiene, más adelante veremos si hacer esto o eliminar la columna entera da mejor resultado a la hora de hacer las predicciones mediantes los clasificadores."
   ]
  },
  {
   "cell_type": "code",
   "execution_count": 11,
   "id": "e577191b",
   "metadata": {},
   "outputs": [],
   "source": [
    "\n",
    "def fix_Cabin(cabin:str):\n",
    "    if cabin != cabin:\n",
    "        return 0\n",
    "    else:\n",
    "        return 1\n",
    "\n",
    "df['Cabin'] = [fix_Cabin(cabin) for cabin in df['Cabin']]"
   ]
  },
  {
   "cell_type": "code",
   "execution_count": 12,
   "id": "70d232ee",
   "metadata": {},
   "outputs": [
    {
     "data": {
      "text/html": [
       "<div>\n",
       "<style scoped>\n",
       "    .dataframe tbody tr th:only-of-type {\n",
       "        vertical-align: middle;\n",
       "    }\n",
       "\n",
       "    .dataframe tbody tr th {\n",
       "        vertical-align: top;\n",
       "    }\n",
       "\n",
       "    .dataframe thead th {\n",
       "        text-align: right;\n",
       "    }\n",
       "</style>\n",
       "<table border=\"1\" class=\"dataframe\">\n",
       "  <thead>\n",
       "    <tr style=\"text-align: right;\">\n",
       "      <th></th>\n",
       "      <th>PassengerId</th>\n",
       "      <th>Survived</th>\n",
       "      <th>Pclass</th>\n",
       "      <th>Name</th>\n",
       "      <th>Sex</th>\n",
       "      <th>Age</th>\n",
       "      <th>SibSp</th>\n",
       "      <th>Parch</th>\n",
       "      <th>Ticket</th>\n",
       "      <th>Fare</th>\n",
       "      <th>Cabin</th>\n",
       "      <th>Embarked</th>\n",
       "    </tr>\n",
       "  </thead>\n",
       "  <tbody>\n",
       "    <tr>\n",
       "      <th>0</th>\n",
       "      <td>1</td>\n",
       "      <td>0</td>\n",
       "      <td>3</td>\n",
       "      <td>Braund, Mr. Owen Harris</td>\n",
       "      <td>male</td>\n",
       "      <td>22.0</td>\n",
       "      <td>1</td>\n",
       "      <td>0</td>\n",
       "      <td>A/5 21171</td>\n",
       "      <td>7.2500</td>\n",
       "      <td>0</td>\n",
       "      <td>S</td>\n",
       "    </tr>\n",
       "    <tr>\n",
       "      <th>1</th>\n",
       "      <td>2</td>\n",
       "      <td>1</td>\n",
       "      <td>1</td>\n",
       "      <td>Cumings, Mrs. John Bradley (Florence Briggs Th...</td>\n",
       "      <td>female</td>\n",
       "      <td>38.0</td>\n",
       "      <td>1</td>\n",
       "      <td>0</td>\n",
       "      <td>PC 17599</td>\n",
       "      <td>71.2833</td>\n",
       "      <td>1</td>\n",
       "      <td>C</td>\n",
       "    </tr>\n",
       "    <tr>\n",
       "      <th>2</th>\n",
       "      <td>3</td>\n",
       "      <td>1</td>\n",
       "      <td>3</td>\n",
       "      <td>Heikkinen, Miss. Laina</td>\n",
       "      <td>female</td>\n",
       "      <td>26.0</td>\n",
       "      <td>0</td>\n",
       "      <td>0</td>\n",
       "      <td>STON/O2. 3101282</td>\n",
       "      <td>7.9250</td>\n",
       "      <td>0</td>\n",
       "      <td>S</td>\n",
       "    </tr>\n",
       "    <tr>\n",
       "      <th>3</th>\n",
       "      <td>4</td>\n",
       "      <td>1</td>\n",
       "      <td>1</td>\n",
       "      <td>Futrelle, Mrs. Jacques Heath (Lily May Peel)</td>\n",
       "      <td>female</td>\n",
       "      <td>35.0</td>\n",
       "      <td>1</td>\n",
       "      <td>0</td>\n",
       "      <td>113803</td>\n",
       "      <td>53.1000</td>\n",
       "      <td>1</td>\n",
       "      <td>S</td>\n",
       "    </tr>\n",
       "    <tr>\n",
       "      <th>4</th>\n",
       "      <td>5</td>\n",
       "      <td>0</td>\n",
       "      <td>3</td>\n",
       "      <td>Allen, Mr. William Henry</td>\n",
       "      <td>male</td>\n",
       "      <td>35.0</td>\n",
       "      <td>0</td>\n",
       "      <td>0</td>\n",
       "      <td>373450</td>\n",
       "      <td>8.0500</td>\n",
       "      <td>0</td>\n",
       "      <td>S</td>\n",
       "    </tr>\n",
       "  </tbody>\n",
       "</table>\n",
       "</div>"
      ],
      "text/plain": [
       "   PassengerId  Survived  Pclass  \\\n",
       "0            1         0       3   \n",
       "1            2         1       1   \n",
       "2            3         1       3   \n",
       "3            4         1       1   \n",
       "4            5         0       3   \n",
       "\n",
       "                                                Name     Sex   Age  SibSp  \\\n",
       "0                            Braund, Mr. Owen Harris    male  22.0      1   \n",
       "1  Cumings, Mrs. John Bradley (Florence Briggs Th...  female  38.0      1   \n",
       "2                             Heikkinen, Miss. Laina  female  26.0      0   \n",
       "3       Futrelle, Mrs. Jacques Heath (Lily May Peel)  female  35.0      1   \n",
       "4                           Allen, Mr. William Henry    male  35.0      0   \n",
       "\n",
       "   Parch            Ticket     Fare  Cabin Embarked  \n",
       "0      0         A/5 21171   7.2500      0        S  \n",
       "1      0          PC 17599  71.2833      1        C  \n",
       "2      0  STON/O2. 3101282   7.9250      0        S  \n",
       "3      0            113803  53.1000      1        S  \n",
       "4      0            373450   8.0500      0        S  "
      ]
     },
     "execution_count": 12,
     "metadata": {},
     "output_type": "execute_result"
    }
   ],
   "source": [
    "df.head()"
   ]
  },
  {
   "cell_type": "markdown",
   "id": "d62ffd5f",
   "metadata": {},
   "source": [
    "Ahora para las características Age y Embarked, rellenaremos los datos que faltan realizando la mediana de los que tenemos y rellenando mediante el valor de moda, respectivamente."
   ]
  },
  {
   "cell_type": "code",
   "execution_count": 13,
   "id": "50173b46",
   "metadata": {},
   "outputs": [],
   "source": [
    "df['Age'].fillna(df['Age'].median(), inplace = True)\n",
    "df['Embarked'].fillna(df['Embarked'].mode()[0], inplace = True)"
   ]
  },
  {
   "cell_type": "markdown",
   "id": "8232e22a",
   "metadata": {},
   "source": [
    "Veamos si hemos eliminado todos los NaNs en el dataset"
   ]
  },
  {
   "cell_type": "code",
   "execution_count": 14,
   "id": "34aa89df",
   "metadata": {
    "scrolled": true
   },
   "outputs": [
    {
     "name": "stdout",
     "output_type": "stream",
     "text": [
      "NaNs en el DataSet\n",
      "PassengerId    0\n",
      "Survived       0\n",
      "Pclass         0\n",
      "Name           0\n",
      "Sex            0\n",
      "Age            0\n",
      "SibSp          0\n",
      "Parch          0\n",
      "Ticket         0\n",
      "Fare           0\n",
      "Cabin          0\n",
      "Embarked       0\n",
      "dtype: int64\n"
     ]
    }
   ],
   "source": [
    "print('NaNs en el DataSet')\n",
    "print(df.isnull().sum())"
   ]
  },
  {
   "cell_type": "markdown",
   "id": "29a8856e",
   "metadata": {},
   "source": [
    "Ahora que hemos eliminado los valores NaNs, podemos eliminar el \"ruido\", por ejemplo las características del id del Pasajero, el nombre de este y el número de Ticket no aportan nada de información a la hora de predecir la supervivéncia del pasajero. Por tanto las eliminaremos."
   ]
  },
  {
   "cell_type": "code",
   "execution_count": 15,
   "id": "6b52e7c8",
   "metadata": {
    "scrolled": true
   },
   "outputs": [
    {
     "data": {
      "text/html": [
       "<div>\n",
       "<style scoped>\n",
       "    .dataframe tbody tr th:only-of-type {\n",
       "        vertical-align: middle;\n",
       "    }\n",
       "\n",
       "    .dataframe tbody tr th {\n",
       "        vertical-align: top;\n",
       "    }\n",
       "\n",
       "    .dataframe thead th {\n",
       "        text-align: right;\n",
       "    }\n",
       "</style>\n",
       "<table border=\"1\" class=\"dataframe\">\n",
       "  <thead>\n",
       "    <tr style=\"text-align: right;\">\n",
       "      <th></th>\n",
       "      <th>Survived</th>\n",
       "      <th>Pclass</th>\n",
       "      <th>Sex</th>\n",
       "      <th>Age</th>\n",
       "      <th>SibSp</th>\n",
       "      <th>Parch</th>\n",
       "      <th>Fare</th>\n",
       "      <th>Cabin</th>\n",
       "      <th>Embarked</th>\n",
       "    </tr>\n",
       "  </thead>\n",
       "  <tbody>\n",
       "    <tr>\n",
       "      <th>0</th>\n",
       "      <td>0</td>\n",
       "      <td>3</td>\n",
       "      <td>male</td>\n",
       "      <td>22.0</td>\n",
       "      <td>1</td>\n",
       "      <td>0</td>\n",
       "      <td>7.2500</td>\n",
       "      <td>0</td>\n",
       "      <td>S</td>\n",
       "    </tr>\n",
       "    <tr>\n",
       "      <th>1</th>\n",
       "      <td>1</td>\n",
       "      <td>1</td>\n",
       "      <td>female</td>\n",
       "      <td>38.0</td>\n",
       "      <td>1</td>\n",
       "      <td>0</td>\n",
       "      <td>71.2833</td>\n",
       "      <td>1</td>\n",
       "      <td>C</td>\n",
       "    </tr>\n",
       "    <tr>\n",
       "      <th>2</th>\n",
       "      <td>1</td>\n",
       "      <td>3</td>\n",
       "      <td>female</td>\n",
       "      <td>26.0</td>\n",
       "      <td>0</td>\n",
       "      <td>0</td>\n",
       "      <td>7.9250</td>\n",
       "      <td>0</td>\n",
       "      <td>S</td>\n",
       "    </tr>\n",
       "    <tr>\n",
       "      <th>3</th>\n",
       "      <td>1</td>\n",
       "      <td>1</td>\n",
       "      <td>female</td>\n",
       "      <td>35.0</td>\n",
       "      <td>1</td>\n",
       "      <td>0</td>\n",
       "      <td>53.1000</td>\n",
       "      <td>1</td>\n",
       "      <td>S</td>\n",
       "    </tr>\n",
       "    <tr>\n",
       "      <th>4</th>\n",
       "      <td>0</td>\n",
       "      <td>3</td>\n",
       "      <td>male</td>\n",
       "      <td>35.0</td>\n",
       "      <td>0</td>\n",
       "      <td>0</td>\n",
       "      <td>8.0500</td>\n",
       "      <td>0</td>\n",
       "      <td>S</td>\n",
       "    </tr>\n",
       "  </tbody>\n",
       "</table>\n",
       "</div>"
      ],
      "text/plain": [
       "   Survived  Pclass     Sex   Age  SibSp  Parch     Fare  Cabin Embarked\n",
       "0         0       3    male  22.0      1      0   7.2500      0        S\n",
       "1         1       1  female  38.0      1      0  71.2833      1        C\n",
       "2         1       3  female  26.0      0      0   7.9250      0        S\n",
       "3         1       1  female  35.0      1      0  53.1000      1        S\n",
       "4         0       3    male  35.0      0      0   8.0500      0        S"
      ]
     },
     "execution_count": 15,
     "metadata": {},
     "output_type": "execute_result"
    }
   ],
   "source": [
    "df.drop(['PassengerId', 'Name', 'Ticket'], inplace=True, axis=1)\n",
    "df.head()"
   ]
  },
  {
   "cell_type": "markdown",
   "id": "89ac08ca",
   "metadata": {},
   "source": [
    "Ahora toca arregla los datos categóricos, ya que con estos no podemos predecir con los clasificadores."
   ]
  },
  {
   "cell_type": "markdown",
   "id": "5ce50c1b",
   "metadata": {},
   "source": [
    "En primer lugar, convertiremos la característica categórica del género y de embarked, en un valor númerico mediante mappings."
   ]
  },
  {
   "cell_type": "code",
   "execution_count": 16,
   "id": "1acc2da8",
   "metadata": {
    "scrolled": true
   },
   "outputs": [
    {
     "data": {
      "text/html": [
       "<div>\n",
       "<style scoped>\n",
       "    .dataframe tbody tr th:only-of-type {\n",
       "        vertical-align: middle;\n",
       "    }\n",
       "\n",
       "    .dataframe tbody tr th {\n",
       "        vertical-align: top;\n",
       "    }\n",
       "\n",
       "    .dataframe thead th {\n",
       "        text-align: right;\n",
       "    }\n",
       "</style>\n",
       "<table border=\"1\" class=\"dataframe\">\n",
       "  <thead>\n",
       "    <tr style=\"text-align: right;\">\n",
       "      <th></th>\n",
       "      <th>Survived</th>\n",
       "      <th>Pclass</th>\n",
       "      <th>Sex</th>\n",
       "      <th>Age</th>\n",
       "      <th>SibSp</th>\n",
       "      <th>Parch</th>\n",
       "      <th>Fare</th>\n",
       "      <th>Cabin</th>\n",
       "      <th>Embarked</th>\n",
       "    </tr>\n",
       "  </thead>\n",
       "  <tbody>\n",
       "    <tr>\n",
       "      <th>0</th>\n",
       "      <td>0</td>\n",
       "      <td>3</td>\n",
       "      <td>0</td>\n",
       "      <td>22.0</td>\n",
       "      <td>1</td>\n",
       "      <td>0</td>\n",
       "      <td>7.2500</td>\n",
       "      <td>0</td>\n",
       "      <td>1</td>\n",
       "    </tr>\n",
       "    <tr>\n",
       "      <th>1</th>\n",
       "      <td>1</td>\n",
       "      <td>1</td>\n",
       "      <td>1</td>\n",
       "      <td>38.0</td>\n",
       "      <td>1</td>\n",
       "      <td>0</td>\n",
       "      <td>71.2833</td>\n",
       "      <td>1</td>\n",
       "      <td>2</td>\n",
       "    </tr>\n",
       "    <tr>\n",
       "      <th>2</th>\n",
       "      <td>1</td>\n",
       "      <td>3</td>\n",
       "      <td>1</td>\n",
       "      <td>26.0</td>\n",
       "      <td>0</td>\n",
       "      <td>0</td>\n",
       "      <td>7.9250</td>\n",
       "      <td>0</td>\n",
       "      <td>1</td>\n",
       "    </tr>\n",
       "    <tr>\n",
       "      <th>3</th>\n",
       "      <td>1</td>\n",
       "      <td>1</td>\n",
       "      <td>1</td>\n",
       "      <td>35.0</td>\n",
       "      <td>1</td>\n",
       "      <td>0</td>\n",
       "      <td>53.1000</td>\n",
       "      <td>1</td>\n",
       "      <td>1</td>\n",
       "    </tr>\n",
       "    <tr>\n",
       "      <th>4</th>\n",
       "      <td>0</td>\n",
       "      <td>3</td>\n",
       "      <td>0</td>\n",
       "      <td>35.0</td>\n",
       "      <td>0</td>\n",
       "      <td>0</td>\n",
       "      <td>8.0500</td>\n",
       "      <td>0</td>\n",
       "      <td>1</td>\n",
       "    </tr>\n",
       "    <tr>\n",
       "      <th>5</th>\n",
       "      <td>0</td>\n",
       "      <td>3</td>\n",
       "      <td>0</td>\n",
       "      <td>28.0</td>\n",
       "      <td>0</td>\n",
       "      <td>0</td>\n",
       "      <td>8.4583</td>\n",
       "      <td>0</td>\n",
       "      <td>3</td>\n",
       "    </tr>\n",
       "    <tr>\n",
       "      <th>6</th>\n",
       "      <td>0</td>\n",
       "      <td>1</td>\n",
       "      <td>0</td>\n",
       "      <td>54.0</td>\n",
       "      <td>0</td>\n",
       "      <td>0</td>\n",
       "      <td>51.8625</td>\n",
       "      <td>1</td>\n",
       "      <td>1</td>\n",
       "    </tr>\n",
       "    <tr>\n",
       "      <th>7</th>\n",
       "      <td>0</td>\n",
       "      <td>3</td>\n",
       "      <td>0</td>\n",
       "      <td>2.0</td>\n",
       "      <td>3</td>\n",
       "      <td>1</td>\n",
       "      <td>21.0750</td>\n",
       "      <td>0</td>\n",
       "      <td>1</td>\n",
       "    </tr>\n",
       "    <tr>\n",
       "      <th>8</th>\n",
       "      <td>1</td>\n",
       "      <td>3</td>\n",
       "      <td>1</td>\n",
       "      <td>27.0</td>\n",
       "      <td>0</td>\n",
       "      <td>2</td>\n",
       "      <td>11.1333</td>\n",
       "      <td>0</td>\n",
       "      <td>1</td>\n",
       "    </tr>\n",
       "    <tr>\n",
       "      <th>9</th>\n",
       "      <td>1</td>\n",
       "      <td>2</td>\n",
       "      <td>1</td>\n",
       "      <td>14.0</td>\n",
       "      <td>1</td>\n",
       "      <td>0</td>\n",
       "      <td>30.0708</td>\n",
       "      <td>0</td>\n",
       "      <td>2</td>\n",
       "    </tr>\n",
       "    <tr>\n",
       "      <th>10</th>\n",
       "      <td>1</td>\n",
       "      <td>3</td>\n",
       "      <td>1</td>\n",
       "      <td>4.0</td>\n",
       "      <td>1</td>\n",
       "      <td>1</td>\n",
       "      <td>16.7000</td>\n",
       "      <td>1</td>\n",
       "      <td>1</td>\n",
       "    </tr>\n",
       "    <tr>\n",
       "      <th>11</th>\n",
       "      <td>1</td>\n",
       "      <td>1</td>\n",
       "      <td>1</td>\n",
       "      <td>58.0</td>\n",
       "      <td>0</td>\n",
       "      <td>0</td>\n",
       "      <td>26.5500</td>\n",
       "      <td>1</td>\n",
       "      <td>1</td>\n",
       "    </tr>\n",
       "    <tr>\n",
       "      <th>12</th>\n",
       "      <td>0</td>\n",
       "      <td>3</td>\n",
       "      <td>0</td>\n",
       "      <td>20.0</td>\n",
       "      <td>0</td>\n",
       "      <td>0</td>\n",
       "      <td>8.0500</td>\n",
       "      <td>0</td>\n",
       "      <td>1</td>\n",
       "    </tr>\n",
       "    <tr>\n",
       "      <th>13</th>\n",
       "      <td>0</td>\n",
       "      <td>3</td>\n",
       "      <td>0</td>\n",
       "      <td>39.0</td>\n",
       "      <td>1</td>\n",
       "      <td>5</td>\n",
       "      <td>31.2750</td>\n",
       "      <td>0</td>\n",
       "      <td>1</td>\n",
       "    </tr>\n",
       "    <tr>\n",
       "      <th>14</th>\n",
       "      <td>0</td>\n",
       "      <td>3</td>\n",
       "      <td>1</td>\n",
       "      <td>14.0</td>\n",
       "      <td>0</td>\n",
       "      <td>0</td>\n",
       "      <td>7.8542</td>\n",
       "      <td>0</td>\n",
       "      <td>1</td>\n",
       "    </tr>\n",
       "  </tbody>\n",
       "</table>\n",
       "</div>"
      ],
      "text/plain": [
       "    Survived  Pclass  Sex   Age  SibSp  Parch     Fare  Cabin  Embarked\n",
       "0          0       3    0  22.0      1      0   7.2500      0         1\n",
       "1          1       1    1  38.0      1      0  71.2833      1         2\n",
       "2          1       3    1  26.0      0      0   7.9250      0         1\n",
       "3          1       1    1  35.0      1      0  53.1000      1         1\n",
       "4          0       3    0  35.0      0      0   8.0500      0         1\n",
       "5          0       3    0  28.0      0      0   8.4583      0         3\n",
       "6          0       1    0  54.0      0      0  51.8625      1         1\n",
       "7          0       3    0   2.0      3      1  21.0750      0         1\n",
       "8          1       3    1  27.0      0      2  11.1333      0         1\n",
       "9          1       2    1  14.0      1      0  30.0708      0         2\n",
       "10         1       3    1   4.0      1      1  16.7000      1         1\n",
       "11         1       1    1  58.0      0      0  26.5500      1         1\n",
       "12         0       3    0  20.0      0      0   8.0500      0         1\n",
       "13         0       3    0  39.0      1      5  31.2750      0         1\n",
       "14         0       3    1  14.0      0      0   7.8542      0         1"
      ]
     },
     "execution_count": 16,
     "metadata": {},
     "output_type": "execute_result"
    }
   ],
   "source": [
    "embarked_mapping = {\"S\": 1, \"C\": 2, \"Q\": 3}\n",
    "sex_mapping = {\"male\": 0, \"female\": 1}\n",
    "df['Sex'] = df['Sex'].map(sex_mapping)\n",
    "df['Embarked'] = df['Embarked'].map(embarked_mapping)\n",
    "df.head(15)"
   ]
  },
  {
   "cell_type": "markdown",
   "id": "6b6195ae",
   "metadata": {},
   "source": [
    "Así pues tenemos los datos arreglados y limpios."
   ]
  },
  {
   "cell_type": "markdown",
   "id": "c0ad1327",
   "metadata": {},
   "source": [
    "## Normalización de datos"
   ]
  },
  {
   "cell_type": "markdown",
   "id": "8b7e6ac5",
   "metadata": {},
   "source": [
    "Ahora que tenemos los datos arreglados tenemos que normalizarlos, esto es de vital importancia ya que más adelante tendremos que realizar el feature importance y si no están normalizados las características con valores más altos tendrán la importancia más alta, cosa que no sería correcta."
   ]
  },
  {
   "cell_type": "code",
   "execution_count": 17,
   "id": "5f4ebeaa",
   "metadata": {},
   "outputs": [
    {
     "data": {
      "text/html": [
       "<div>\n",
       "<style scoped>\n",
       "    .dataframe tbody tr th:only-of-type {\n",
       "        vertical-align: middle;\n",
       "    }\n",
       "\n",
       "    .dataframe tbody tr th {\n",
       "        vertical-align: top;\n",
       "    }\n",
       "\n",
       "    .dataframe thead th {\n",
       "        text-align: right;\n",
       "    }\n",
       "</style>\n",
       "<table border=\"1\" class=\"dataframe\">\n",
       "  <thead>\n",
       "    <tr style=\"text-align: right;\">\n",
       "      <th></th>\n",
       "      <th>Survived</th>\n",
       "      <th>Pclass</th>\n",
       "      <th>Sex</th>\n",
       "      <th>Age</th>\n",
       "      <th>SibSp</th>\n",
       "      <th>Parch</th>\n",
       "      <th>Fare</th>\n",
       "      <th>Cabin</th>\n",
       "      <th>Embarked</th>\n",
       "    </tr>\n",
       "  </thead>\n",
       "  <tbody>\n",
       "    <tr>\n",
       "      <th>0</th>\n",
       "      <td>0</td>\n",
       "      <td>0.827377</td>\n",
       "      <td>0</td>\n",
       "      <td>-0.565736</td>\n",
       "      <td>0.432793</td>\n",
       "      <td>-0.473674</td>\n",
       "      <td>-0.502445</td>\n",
       "      <td>0</td>\n",
       "      <td>-0.568837</td>\n",
       "    </tr>\n",
       "    <tr>\n",
       "      <th>1</th>\n",
       "      <td>1</td>\n",
       "      <td>-1.566107</td>\n",
       "      <td>1</td>\n",
       "      <td>0.663861</td>\n",
       "      <td>0.432793</td>\n",
       "      <td>-0.473674</td>\n",
       "      <td>0.786845</td>\n",
       "      <td>1</td>\n",
       "      <td>1.005181</td>\n",
       "    </tr>\n",
       "    <tr>\n",
       "      <th>2</th>\n",
       "      <td>1</td>\n",
       "      <td>0.827377</td>\n",
       "      <td>1</td>\n",
       "      <td>-0.258337</td>\n",
       "      <td>-0.474545</td>\n",
       "      <td>-0.473674</td>\n",
       "      <td>-0.488854</td>\n",
       "      <td>0</td>\n",
       "      <td>-0.568837</td>\n",
       "    </tr>\n",
       "    <tr>\n",
       "      <th>3</th>\n",
       "      <td>1</td>\n",
       "      <td>-1.566107</td>\n",
       "      <td>1</td>\n",
       "      <td>0.433312</td>\n",
       "      <td>0.432793</td>\n",
       "      <td>-0.473674</td>\n",
       "      <td>0.420730</td>\n",
       "      <td>1</td>\n",
       "      <td>-0.568837</td>\n",
       "    </tr>\n",
       "    <tr>\n",
       "      <th>4</th>\n",
       "      <td>0</td>\n",
       "      <td>0.827377</td>\n",
       "      <td>0</td>\n",
       "      <td>0.433312</td>\n",
       "      <td>-0.474545</td>\n",
       "      <td>-0.473674</td>\n",
       "      <td>-0.486337</td>\n",
       "      <td>0</td>\n",
       "      <td>-0.568837</td>\n",
       "    </tr>\n",
       "    <tr>\n",
       "      <th>5</th>\n",
       "      <td>0</td>\n",
       "      <td>0.827377</td>\n",
       "      <td>0</td>\n",
       "      <td>-0.104637</td>\n",
       "      <td>-0.474545</td>\n",
       "      <td>-0.473674</td>\n",
       "      <td>-0.478116</td>\n",
       "      <td>0</td>\n",
       "      <td>2.579199</td>\n",
       "    </tr>\n",
       "    <tr>\n",
       "      <th>6</th>\n",
       "      <td>0</td>\n",
       "      <td>-1.566107</td>\n",
       "      <td>0</td>\n",
       "      <td>1.893459</td>\n",
       "      <td>-0.474545</td>\n",
       "      <td>-0.473674</td>\n",
       "      <td>0.395814</td>\n",
       "      <td>1</td>\n",
       "      <td>-0.568837</td>\n",
       "    </tr>\n",
       "    <tr>\n",
       "      <th>7</th>\n",
       "      <td>0</td>\n",
       "      <td>0.827377</td>\n",
       "      <td>0</td>\n",
       "      <td>-2.102733</td>\n",
       "      <td>2.247470</td>\n",
       "      <td>0.767630</td>\n",
       "      <td>-0.224083</td>\n",
       "      <td>0</td>\n",
       "      <td>-0.568837</td>\n",
       "    </tr>\n",
       "    <tr>\n",
       "      <th>8</th>\n",
       "      <td>1</td>\n",
       "      <td>0.827377</td>\n",
       "      <td>1</td>\n",
       "      <td>-0.181487</td>\n",
       "      <td>-0.474545</td>\n",
       "      <td>2.008933</td>\n",
       "      <td>-0.424256</td>\n",
       "      <td>0</td>\n",
       "      <td>-0.568837</td>\n",
       "    </tr>\n",
       "    <tr>\n",
       "      <th>9</th>\n",
       "      <td>1</td>\n",
       "      <td>-0.369365</td>\n",
       "      <td>1</td>\n",
       "      <td>-1.180535</td>\n",
       "      <td>0.432793</td>\n",
       "      <td>-0.473674</td>\n",
       "      <td>-0.042956</td>\n",
       "      <td>0</td>\n",
       "      <td>1.005181</td>\n",
       "    </tr>\n",
       "    <tr>\n",
       "      <th>10</th>\n",
       "      <td>1</td>\n",
       "      <td>0.827377</td>\n",
       "      <td>1</td>\n",
       "      <td>-1.949034</td>\n",
       "      <td>0.432793</td>\n",
       "      <td>0.767630</td>\n",
       "      <td>-0.312172</td>\n",
       "      <td>1</td>\n",
       "      <td>-0.568837</td>\n",
       "    </tr>\n",
       "    <tr>\n",
       "      <th>11</th>\n",
       "      <td>1</td>\n",
       "      <td>-1.566107</td>\n",
       "      <td>1</td>\n",
       "      <td>2.200858</td>\n",
       "      <td>-0.474545</td>\n",
       "      <td>-0.473674</td>\n",
       "      <td>-0.113846</td>\n",
       "      <td>1</td>\n",
       "      <td>-0.568837</td>\n",
       "    </tr>\n",
       "    <tr>\n",
       "      <th>12</th>\n",
       "      <td>0</td>\n",
       "      <td>0.827377</td>\n",
       "      <td>0</td>\n",
       "      <td>-0.719436</td>\n",
       "      <td>-0.474545</td>\n",
       "      <td>-0.473674</td>\n",
       "      <td>-0.486337</td>\n",
       "      <td>0</td>\n",
       "      <td>-0.568837</td>\n",
       "    </tr>\n",
       "    <tr>\n",
       "      <th>13</th>\n",
       "      <td>0</td>\n",
       "      <td>0.827377</td>\n",
       "      <td>0</td>\n",
       "      <td>0.740711</td>\n",
       "      <td>0.432793</td>\n",
       "      <td>5.732844</td>\n",
       "      <td>-0.018709</td>\n",
       "      <td>0</td>\n",
       "      <td>-0.568837</td>\n",
       "    </tr>\n",
       "    <tr>\n",
       "      <th>14</th>\n",
       "      <td>0</td>\n",
       "      <td>0.827377</td>\n",
       "      <td>1</td>\n",
       "      <td>-1.180535</td>\n",
       "      <td>-0.474545</td>\n",
       "      <td>-0.473674</td>\n",
       "      <td>-0.490280</td>\n",
       "      <td>0</td>\n",
       "      <td>-0.568837</td>\n",
       "    </tr>\n",
       "  </tbody>\n",
       "</table>\n",
       "</div>"
      ],
      "text/plain": [
       "    Survived    Pclass  Sex       Age     SibSp     Parch      Fare  Cabin  \\\n",
       "0          0  0.827377    0 -0.565736  0.432793 -0.473674 -0.502445      0   \n",
       "1          1 -1.566107    1  0.663861  0.432793 -0.473674  0.786845      1   \n",
       "2          1  0.827377    1 -0.258337 -0.474545 -0.473674 -0.488854      0   \n",
       "3          1 -1.566107    1  0.433312  0.432793 -0.473674  0.420730      1   \n",
       "4          0  0.827377    0  0.433312 -0.474545 -0.473674 -0.486337      0   \n",
       "5          0  0.827377    0 -0.104637 -0.474545 -0.473674 -0.478116      0   \n",
       "6          0 -1.566107    0  1.893459 -0.474545 -0.473674  0.395814      1   \n",
       "7          0  0.827377    0 -2.102733  2.247470  0.767630 -0.224083      0   \n",
       "8          1  0.827377    1 -0.181487 -0.474545  2.008933 -0.424256      0   \n",
       "9          1 -0.369365    1 -1.180535  0.432793 -0.473674 -0.042956      0   \n",
       "10         1  0.827377    1 -1.949034  0.432793  0.767630 -0.312172      1   \n",
       "11         1 -1.566107    1  2.200858 -0.474545 -0.473674 -0.113846      1   \n",
       "12         0  0.827377    0 -0.719436 -0.474545 -0.473674 -0.486337      0   \n",
       "13         0  0.827377    0  0.740711  0.432793  5.732844 -0.018709      0   \n",
       "14         0  0.827377    1 -1.180535 -0.474545 -0.473674 -0.490280      0   \n",
       "\n",
       "    Embarked  \n",
       "0  -0.568837  \n",
       "1   1.005181  \n",
       "2  -0.568837  \n",
       "3  -0.568837  \n",
       "4  -0.568837  \n",
       "5   2.579199  \n",
       "6  -0.568837  \n",
       "7  -0.568837  \n",
       "8  -0.568837  \n",
       "9   1.005181  \n",
       "10 -0.568837  \n",
       "11 -0.568837  \n",
       "12 -0.568837  \n",
       "13 -0.568837  \n",
       "14 -0.568837  "
      ]
     },
     "execution_count": 17,
     "metadata": {},
     "output_type": "execute_result"
    }
   ],
   "source": [
    "# Utilizamos el standard scaler para normalizar los datos\n",
    "scaler = StandardScaler()\n",
    "df.Age=scaler.fit_transform(df.Age.values.reshape(-1,1))\n",
    "df.Fare=scaler.fit_transform(df.Fare.values.reshape(-1,1))\n",
    "df.SibSp=scaler.fit_transform(df.SibSp.values.reshape(-1,1))\n",
    "df.Embarked=scaler.fit_transform(df.Embarked.values.reshape(-1,1))\n",
    "df.Pclass=scaler.fit_transform(df.Pclass.values.reshape(-1,1))\n",
    "df.Parch=scaler.fit_transform(df.Parch.values.reshape(-1,1))\n",
    "df.head(15)"
   ]
  },
  {
   "cell_type": "markdown",
   "id": "213d7c67",
   "metadata": {},
   "source": [
    "# Entrenamiento"
   ]
  },
  {
   "cell_type": "markdown",
   "id": "3bdddd90",
   "metadata": {},
   "source": [
    "Ahora que ya tenemos el dataset listo podemos relizar el entrenamiento mediante los clasificadores. En primer lugar obtenemos los datos de entrenamiento y los de test, los obtendremos de dos formas la primera con nuestro dataset actual y la segunda eliminando la columna Cabin."
   ]
  },
  {
   "cell_type": "code",
   "execution_count": 18,
   "id": "ec29312b",
   "metadata": {},
   "outputs": [],
   "source": [
    "data = df.drop(\"Survived\", axis=1)\n",
    "Targeted_feature = df[\"Survived\"]\n",
    "X_train, X_test, y_train, y_test = train_test_split(data,Targeted_feature,test_size=0.3,random_state=42)"
   ]
  },
  {
   "cell_type": "code",
   "execution_count": 19,
   "id": "869ff778",
   "metadata": {},
   "outputs": [],
   "source": [
    "data2 = df.drop(\"Survived\", axis=1)\n",
    "data20 = data2.drop(\"Cabin\", axis=1)\n",
    "Targeted_feature = df[\"Survived\"]\n",
    "X_train2, X_test2, y_train2, y_test2 = train_test_split(data20,Targeted_feature,test_size=0.3,random_state=42)"
   ]
  },
  {
   "cell_type": "markdown",
   "id": "29abdf46",
   "metadata": {},
   "source": [
    "Realizaremos una prueba con el clasificador de regresión logística."
   ]
  },
  {
   "cell_type": "code",
   "execution_count": 20,
   "id": "e8666ef2",
   "metadata": {},
   "outputs": [
    {
     "name": "stdout",
     "output_type": "stream",
     "text": [
      "--------------Report del modelo----------------------------\n",
      "              precision    recall  f1-score   support\n",
      "\n",
      "           0       0.87      0.84      0.85       164\n",
      "           1       0.76      0.81      0.78       104\n",
      "\n",
      "    accuracy                           0.82       268\n",
      "   macro avg       0.81      0.82      0.82       268\n",
      "weighted avg       0.83      0.82      0.83       268\n",
      "\n"
     ]
    }
   ],
   "source": [
    "modelo_lr = LogisticRegression(random_state=0, max_iter=350).fit(X_train, y_train) # Aumentamos las iteraciones \n",
    "prediction_lr = modelo_lr.predict(X_test)\n",
    "print('--------------Report del modelo----------------------------')\n",
    "print(classification_report(prediction_lr,y_test))"
   ]
  },
  {
   "cell_type": "code",
   "execution_count": 21,
   "id": "5481bee6",
   "metadata": {},
   "outputs": [
    {
     "name": "stdout",
     "output_type": "stream",
     "text": [
      "--------------Report del modelo----------------------------\n",
      "              precision    recall  f1-score   support\n",
      "\n",
      "           0       0.87      0.81      0.84       167\n",
      "           1       0.72      0.79      0.75       101\n",
      "\n",
      "    accuracy                           0.81       268\n",
      "   macro avg       0.79      0.80      0.80       268\n",
      "weighted avg       0.81      0.81      0.81       268\n",
      "\n"
     ]
    }
   ],
   "source": [
    "modelo_lr2 = LogisticRegression(random_state=0, max_iter=350).fit(X_train2, y_train2) # Aumentamos las iteraciones \n",
    "prediction_lr2 = modelo_lr2.predict(X_test2)\n",
    "print('--------------Report del modelo----------------------------')\n",
    "print(classification_report(prediction_lr2,y_test))"
   ]
  },
  {
   "cell_type": "markdown",
   "id": "2f366227",
   "metadata": {},
   "source": [
    "Como se puede apreciar hemos obtenido en general puntuaciones más alta en las medidas de evaluación (más adelante se explicarán) con el dataset actual que eliminando la columna Cabin por tanto nos quedamos con los datos de entrenamiento y de test, en los que la columna cabin es un característica numérica."
   ]
  },
  {
   "cell_type": "markdown",
   "id": "dcf4c60e",
   "metadata": {},
   "source": [
    "Ahora si empezamos a entrenar los clasificadores con los datos que tenemos, para cada uno de ellos se entrenarán con los mejores parámetros o los óptimos, estos los podemos obtener mediante la librería GridSearchCV."
   ]
  },
  {
   "cell_type": "markdown",
   "id": "60cd9f68",
   "metadata": {},
   "source": [
    "## Regresión Logística"
   ]
  },
  {
   "cell_type": "markdown",
   "id": "0455eed8",
   "metadata": {},
   "source": [
    "Para el modelo de regresión logística los parámetros más interesantes son las iteraciones y los optimizadors o solvers."
   ]
  },
  {
   "cell_type": "markdown",
   "id": "bce0b94d",
   "metadata": {},
   "source": [
    "max_iter: especifica el número máximo de iteraciones que se deben realizar durante el proceso de entrenamiento del modelo. El proceso de entrenamiento se detiene cuando se alcanza el número máximo de iteraciones o cuando se alcanza una convergencia, lo que ocurra primero.\n",
    "\n",
    "solver: especifica el algoritmo utilizado para entrenar el modelo. Hay varios solvers disponibles, cada uno con sus propias ventajas y desventajas:\n",
    "\n",
    "* 'newton-cg': Este solver utiliza el método de Newton-Conjugate-Gradient para entrenar el modelo. Es eficiente para problemas de gran tamaño y funciona bien con una alta dimensionalidad de los datos. Sin embargo, puede ser sensible a la escala de los datos y no es adecuado para problemas con muchos atributos categóricos.\n",
    "\n",
    "* 'lbfgs': Este solver utiliza el algoritmo de Limited-Memory Broyden-Fletcher-Goldfarb-Shanno (L-BFGS) para entrenar el modelo. Es similar al solver 'newton-cg' en términos de eficiencia y capacidad de manejar problemas de gran tamaño y alta dimensionalidad, pero a menudo es más estable.\n",
    "\n",
    "* 'liblinear': Este solver utiliza el algoritmo de optimización de mínimos cuadrados duales para entrenar el modelo. Es adecuado para problemas de gran tamaño, pero es menos eficiente que los solvers 'newton-cg' y 'lbfgs' y puede tardar más en converger.\n",
    "\n",
    "* 'sag': Este solver utiliza el algoritmo de Stochastic Average Gradient (SAG) para entrenar el modelo. Es muy eficiente y puede manejar problemas de gran tamaño y alta dimensionalidad, pero puede ser menos preciso"
   ]
  },
  {
   "cell_type": "code",
   "execution_count": 22,
   "id": "fc44fbf5",
   "metadata": {},
   "outputs": [
    {
     "name": "stdout",
     "output_type": "stream",
     "text": [
      "Fitting 3 folds for each of 70 candidates, totalling 210 fits\n",
      "{'max_iter': 100, 'solver': 'liblinear'}\n"
     ]
    }
   ],
   "source": [
    "\n",
    "iteraciones = np.arange(100,800,50)\n",
    "#Algoritmo usado en la optimización\n",
    "solver = np.array(['lbfgs', 'liblinear', 'newton-cg', 'sag', 'saga'])\n",
    "\n",
    "grid = GridSearchCV(estimator = modelo_lr,param_grid = dict(max_iter = iteraciones, solver = solver),cv = 3,verbose=1)\n",
    "grid.fit(X_train,y_train)\n",
    "#Mejores parametros para usar\n",
    "print(grid.best_params_)\n"
   ]
  },
  {
   "cell_type": "markdown",
   "id": "8575c1a1",
   "metadata": {},
   "source": [
    "Ahora que tenemos los mejores parámetros para el modelo de regresión logística, podemos entrenarlo y realizar la predicción."
   ]
  },
  {
   "cell_type": "code",
   "execution_count": 23,
   "id": "67cfe6d0",
   "metadata": {},
   "outputs": [
    {
     "name": "stdout",
     "output_type": "stream",
     "text": [
      "              precision    recall  f1-score   support\n",
      "\n",
      "           0       0.87      0.84      0.85       164\n",
      "           1       0.76      0.81      0.78       104\n",
      "\n",
      "    accuracy                           0.82       268\n",
      "   macro avg       0.81      0.82      0.82       268\n",
      "weighted avg       0.83      0.82      0.83       268\n",
      "\n"
     ]
    }
   ],
   "source": [
    "modelo_lr_hiperparametros = LogisticRegression( max_iter=100,solver='liblinear').fit(X_train, y_train) # Aumentamos las iteraciones \n",
    "prediction_lr_hiperparametros = modelo_lr_hiperparametros.predict(X_test)\n",
    "print(classification_report(prediction_lr_hiperparametros,y_test))"
   ]
  },
  {
   "cell_type": "markdown",
   "id": "d202d533",
   "metadata": {},
   "source": [
    "Veamos que significan los resultados que obtenemos con el classification report:\n",
    "\n",
    "`precision`: Porcentaje de predicciones positivas correctas en relación con el total de predicciones positivas.\n",
    "`recall`: Porcentaje de predicciones positivas correctas en relación con el total de positivos reales.\n",
    "`F1 Score`: Media harmònica ponderada de precision y recall\n",
    "\n",
    "El mínimo es 0 y el máximo es 1 entonces cuanto más cerca de 1 mejor es nuestro modelo.\n",
    "\n",
    "Support solo nos indica cuanto valores pertenecían a cada clase (0 no sobrevivió, 1 si sobrevivió).\n"
   ]
  },
  {
   "cell_type": "markdown",
   "id": "04350997",
   "metadata": {},
   "source": [
    "Así pues para el modelo de regresión logísitca tenemos valores bastantes buenos alrededor de 0,80 - 0,90, veamos los otros modelos como rinden en comparación."
   ]
  },
  {
   "cell_type": "markdown",
   "id": "e9e2e8b0",
   "metadata": {},
   "source": [
    "## Perceptron"
   ]
  },
  {
   "cell_type": "markdown",
   "id": "9e54de38",
   "metadata": {},
   "source": [
    "Entrenamiento de perceptron sin hiperparámetros."
   ]
  },
  {
   "cell_type": "code",
   "execution_count": 24,
   "id": "8d43115a",
   "metadata": {},
   "outputs": [
    {
     "name": "stdout",
     "output_type": "stream",
     "text": [
      "              precision    recall  f1-score   support\n",
      "\n",
      "           0       0.81      0.76      0.78       157\n",
      "           1       0.69      0.74      0.71       111\n",
      "\n",
      "    accuracy                           0.75       268\n",
      "   macro avg       0.75      0.75      0.75       268\n",
      "weighted avg       0.76      0.75      0.75       268\n",
      "\n"
     ]
    }
   ],
   "source": [
    "modelo_percep = linear_model.Perceptron(tol=1e-3, random_state=42)\n",
    "modelo_percep.fit(X_train, y_train);\n",
    "\n",
    "pred = modelo_percep.predict(X_test)\n",
    "print(classification_report(y_test, pred))"
   ]
  },
  {
   "cell_type": "markdown",
   "id": "2c814ca5",
   "metadata": {},
   "source": [
    "A continuación elegiremos los mejores parámetros para el perceptrón."
   ]
  },
  {
   "cell_type": "markdown",
   "id": "24760b07",
   "metadata": {},
   "source": [
    "* max_iter: igual que regresión logística\n",
    "\n",
    "* tol: especifica el nivel de tolerancia para la convergencia del modelo. Si la diferencia entre el rendimiento del modelo en dos iteraciones consecutivas es menor que el valor de tolerancia, el proceso de entrenamiento se detiene.\n",
    "\n",
    "* alpha: especifica el término de regularización utilizado en el modelo. El término de regularización se utiliza para evitar el sobreajuste y promover la generalización del modelo. Un valor más alto de alpha implica una mayor regularización y, por lo tanto, un modelo menos complejo.\n",
    "\n",
    "* penalty: especifica el tipo de regularización utilizada en el modelo. Hay dos opciones disponibles: 'l2', que implica una regularización L2, y 'l1', que implica una regularización L1. La regularización L2 promueve la suavidad de la función de predicción mientras que la regularización L1 promueve la simplicidad y la selección de atributos."
   ]
  },
  {
   "cell_type": "code",
   "execution_count": 25,
   "id": "5699448f",
   "metadata": {},
   "outputs": [
    {
     "name": "stdout",
     "output_type": "stream",
     "text": [
      "{'alpha': 0.001, 'max_iter': 1000, 'penalty': 'l1', 'random_state': 0, 'tol': 0.001}\n",
      "0.7448774193548388\n"
     ]
    }
   ],
   "source": [
    "iter = list(range(1000, 1501, 100))\n",
    "param_grid = {'penalty': ['l1', 'l2'], 'alpha': [0.001, 0.01, 0.1], 'max_iter':iter,'tol':[1e-3, 1e-4, 1e-5],'random_state':[0,10,42]}\n",
    "\n",
    "grid_search = GridSearchCV(estimator=modelo_percep, param_grid=param_grid, cv=5)\n",
    "grid_search.fit(X_train,y_train)\n",
    "#Mejores parametros para usar\n",
    "print(grid_search.best_params_)\n",
    "print(grid_search.best_score_)"
   ]
  },
  {
   "cell_type": "markdown",
   "id": "75e51e9d",
   "metadata": {},
   "source": [
    "Modelo perceptron con hiperparámetros"
   ]
  },
  {
   "cell_type": "code",
   "execution_count": 26,
   "id": "9bdd9737",
   "metadata": {},
   "outputs": [
    {
     "name": "stdout",
     "output_type": "stream",
     "text": [
      "              precision    recall  f1-score   support\n",
      "\n",
      "           0       0.91      0.73      0.81       196\n",
      "           1       0.52      0.81      0.63        72\n",
      "\n",
      "    accuracy                           0.75       268\n",
      "   macro avg       0.72      0.77      0.72       268\n",
      "weighted avg       0.81      0.75      0.76       268\n",
      "\n"
     ]
    }
   ],
   "source": [
    "modelo_percep_hiperparametros = linear_model.Perceptron(tol=0.001, alpha=0.001, penalty='l1',max_iter=1000, random_state=0).fit(X_train, y_train) # Aumentamos las iteraciones \n",
    "prediction_percep_hiperparametros = modelo_percep_hiperparametros.predict(X_test)\n",
    "print(classification_report(prediction_percep_hiperparametros,y_test))"
   ]
  },
  {
   "cell_type": "markdown",
   "id": "dd691021",
   "metadata": {},
   "source": [
    "Como se puede apreciar el modelo de preceptron rinde bastante peor en general que el de regresión logística, especialemmte en la característica de precision con solo un 0,52, tiene sentido ya que el perceptron es el clasificador  más basico de todos."
   ]
  },
  {
   "cell_type": "markdown",
   "id": "c8857cc3",
   "metadata": {},
   "source": [
    "## Decision Tree"
   ]
  },
  {
   "cell_type": "markdown",
   "id": "c7fdb22b",
   "metadata": {},
   "source": [
    "Finalmente emplearemos el arbol de decisión y random forest.\n",
    "Arbol de decisión sin hiperparámetros:"
   ]
  },
  {
   "cell_type": "code",
   "execution_count": 27,
   "id": "cf09a462",
   "metadata": {},
   "outputs": [
    {
     "name": "stdout",
     "output_type": "stream",
     "text": [
      "              precision    recall  f1-score   support\n",
      "\n",
      "           0       0.78      0.79      0.78       157\n",
      "           1       0.69      0.68      0.68       111\n",
      "\n",
      "    accuracy                           0.74       268\n",
      "   macro avg       0.73      0.73      0.73       268\n",
      "weighted avg       0.74      0.74      0.74       268\n",
      "\n"
     ]
    }
   ],
   "source": [
    "modelo_tree = DecisionTreeClassifier()\n",
    "\n",
    "# Train Decision Tree Classifer\n",
    "modelo_tree = modelo_tree.fit(X_train,y_train)\n",
    "\n",
    "y_pred = modelo_tree.predict(X_test)\n",
    "\n",
    "print(classification_report(y_test, y_pred))"
   ]
  },
  {
   "cell_type": "markdown",
   "id": "5391017d",
   "metadata": {},
   "source": [
    "Modelo arbol de decision con hiperparámetros. Los parámetros elegidos son:"
   ]
  },
  {
   "cell_type": "markdown",
   "id": "64ebb849",
   "metadata": {},
   "source": [
    "* criterion: es el criterio utilizado para medir la calidad de una división. Los valores posibles son \"gini\" para medir la impureza de Gini o \"entropy\" para medir la entropía. Por defecto, se utiliza \"gini\".\n",
    "\n",
    "* max_depth: es la profundidad máxima del árbol. Esto significa que el árbol no crecerá más allá de esa profundidad. Esto se utiliza para evitar que el árbol se vuelva demasiado complejo y para controlar el sobreajuste. Si no se establece un valor, el árbol crecerá hasta que tenga una sola hoja por nodo.\n",
    "\n",
    "* min_samples_split: es el número mínimo de muestras necesarias para dividir un nodo. Si un nodo tiene menos muestras de lo especificado, no se dividirá. Esto se utiliza para evitar que el árbol se vuelva demasiado complejo y para controlar el sobreajuste.\n",
    "\n",
    "* splitter: es el método utilizado para seleccionar el atributo y el valor de corte en cada nodo del árbol. Los valores posibles son \"best\" para seleccionar el mejor atributo y el valor de corte según la función de costo especificada en el criterio, o \"random\" para seleccionar aleatoriamente un atributo y un valor de corte. Por defecto, se utiliza \"best\"."
   ]
  },
  {
   "cell_type": "code",
   "execution_count": 28,
   "id": "4c25f132",
   "metadata": {},
   "outputs": [
    {
     "name": "stdout",
     "output_type": "stream",
     "text": [
      "{'criterion': 'entropy', 'max_depth': 10, 'min_samples_split': 4, 'splitter': 'random'}\n",
      "0.8266193548387097\n"
     ]
    }
   ],
   "source": [
    "param_grid = {'max_depth': [2, 4, 6, 8, 10], 'min_samples_split': [2, 4, 6, 8, 10], 'criterion':[\"gini\", \"entropy\", \"log_loss\"], 'splitter' : [\"best\", \"random\"]}\n",
    "\n",
    "# Create the grid search object\n",
    "grid_search = GridSearchCV(estimator=modelo_tree, param_grid=param_grid, cv=5)\n",
    "\n",
    "# Fit the grid search to the data\n",
    "grid_search.fit(X_train, y_train)\n",
    "\n",
    "# Print the best parameters and the best score\n",
    "print(grid_search.best_params_)\n",
    "print(grid_search.best_score_)"
   ]
  },
  {
   "cell_type": "code",
   "execution_count": 29,
   "id": "103dfea2",
   "metadata": {},
   "outputs": [
    {
     "name": "stdout",
     "output_type": "stream",
     "text": [
      "              precision    recall  f1-score   support\n",
      "\n",
      "           0       0.79      0.88      0.83       157\n",
      "           1       0.80      0.67      0.73       111\n",
      "\n",
      "    accuracy                           0.79       268\n",
      "   macro avg       0.79      0.77      0.78       268\n",
      "weighted avg       0.79      0.79      0.79       268\n",
      "\n"
     ]
    }
   ],
   "source": [
    "modelo_tree_hiperparametros = DecisionTreeClassifier(criterion='entropy',max_depth=10,min_samples_split=8,splitter='random')\n",
    "\n",
    "# Train Decision Tree Classifer\n",
    "modelo_tree_hiperparametros = modelo_tree_hiperparametros.fit(X_train,y_train)\n",
    "\n",
    "y_pred_hiperparametros = modelo_tree_hiperparametros.predict(X_test)\n",
    "\n",
    "print(classification_report(y_test, y_pred_hiperparametros))"
   ]
  },
  {
   "cell_type": "markdown",
   "id": "00bad290",
   "metadata": {},
   "source": [
    "Como se puede apreciar tenemos resultados bastante mejores que el perceptron y algo mejores en general que el modelo de regresión logística. Veamos ahora como se comporta el random forest."
   ]
  },
  {
   "cell_type": "markdown",
   "id": "4cb1d412",
   "metadata": {},
   "source": [
    "## Random Forest"
   ]
  },
  {
   "cell_type": "markdown",
   "id": "08082abe",
   "metadata": {},
   "source": [
    "Modelo del Random Forest sin hiperparámetros."
   ]
  },
  {
   "cell_type": "code",
   "execution_count": 30,
   "id": "1f419b38",
   "metadata": {},
   "outputs": [
    {
     "name": "stdout",
     "output_type": "stream",
     "text": [
      "              precision    recall  f1-score   support\n",
      "\n",
      "           0       0.79      0.81      0.80       157\n",
      "           1       0.72      0.69      0.71       111\n",
      "\n",
      "    accuracy                           0.76       268\n",
      "   macro avg       0.75      0.75      0.75       268\n",
      "weighted avg       0.76      0.76      0.76       268\n",
      "\n"
     ]
    }
   ],
   "source": [
    "modelo_Forest = RandomForestClassifier()\n",
    "\n",
    "modelo_Forest = modelo_Forest.fit(X_train,y_train)\n",
    "\n",
    "y_pred = modelo_Forest.predict(X_test)\n",
    "\n",
    "print(classification_report(y_test, y_pred))"
   ]
  },
  {
   "cell_type": "markdown",
   "id": "94514ad7",
   "metadata": {},
   "source": [
    "Modelo Random Forest con hiperparámetros."
   ]
  },
  {
   "cell_type": "markdown",
   "id": "522fa56e",
   "metadata": {},
   "source": [
    "En primer lugar cabe destacar que hay variabilidad en la salida, eso se debe a que cada vez se ejecuta el gridSearchCV se crean varios arboles distintos, lo que da a diferentes resultados en las votaciones de los arboles y diferentes best_params_ y best_scores_, se eligen los valores que mas se repitieron, con mejores resultados al ejecutar varias veces el gridSearchCV. Los parámetros elegidos son:"
   ]
  },
  {
   "cell_type": "markdown",
   "id": "e116a84c",
   "metadata": {},
   "source": [
    "* criterion y max_depth: igual que en el arbol de decisión.\n",
    "\n",
    "* n_estimators: es el número de árboles del bosque. Mayor número de árboles aumenta la capacidad de predicción del modelo, pero también aumenta el tiempo de entrenamiento y puede aumentar el sobreajuste. Por lo general, se recomienda elegir un número lo suficientemente alto para que el modelo tenga una buena capacidad de predicción, pero no tan alto que cause sobreajuste."
   ]
  },
  {
   "cell_type": "code",
   "execution_count": 31,
   "id": "778d869f",
   "metadata": {},
   "outputs": [
    {
     "name": "stdout",
     "output_type": "stream",
     "text": [
      "{'criterion': 'gini', 'max_depth': 8, 'n_estimators': 17}\n",
      "0.8266598538337669\n"
     ]
    }
   ],
   "source": [
    "param_grid = {'n_estimators': [7,13, 17, 19], 'max_depth': [ 2, 4, 6, 8],'criterion':[\"gini\", \"entropy\"]}\n",
    "\n",
    "# Create the grid search object\n",
    "grid_search = GridSearchCV(estimator=modelo_Forest, param_grid=param_grid, cv=3)\n",
    "\n",
    "# Fit the grid search to the data\n",
    "grid_search.fit(X_train, y_train)\n",
    "\n",
    "# Print the best parameters and the best score\n",
    "print(grid_search.best_params_)\n",
    "print(grid_search.best_score_)"
   ]
  },
  {
   "cell_type": "code",
   "execution_count": 32,
   "id": "3ad3ce4b",
   "metadata": {},
   "outputs": [
    {
     "name": "stdout",
     "output_type": "stream",
     "text": [
      "              precision    recall  f1-score   support\n",
      "\n",
      "           0       0.78      0.89      0.83       157\n",
      "           1       0.81      0.65      0.72       111\n",
      "\n",
      "    accuracy                           0.79       268\n",
      "   macro avg       0.80      0.77      0.78       268\n",
      "weighted avg       0.79      0.79      0.79       268\n",
      "\n"
     ]
    }
   ],
   "source": [
    "modelo_Forest_hiperparametros = RandomForestClassifier(criterion='gini', max_depth=8, n_estimators=13)\n",
    "\n",
    "modelo_Forest_hiperparametros = modelo_Forest_hiperparametros.fit(X_train,y_train)\n",
    "\n",
    "y_pred_hiperparametros = modelo_Forest_hiperparametros.predict(X_test)\n",
    "\n",
    "print(classification_report(y_test, y_pred_hiperparametros))"
   ]
  },
  {
   "cell_type": "markdown",
   "id": "921c80ef",
   "metadata": {},
   "source": [
    "Como se puede apreciar los resultados del random forest son parecidos o algo superiores al de decision tree, haciendo que este sea el que tenga mejores resultados que los otros modelos, tiene sentido ya los modelos de arboles en problemas del mundo real como es este se comportan mejor que los modelos lineales, debido a la complejidad de los datos."
   ]
  },
  {
   "cell_type": "markdown",
   "id": "fdeb31fb",
   "metadata": {},
   "source": [
    "## 2ºParte"
   ]
  },
  {
   "cell_type": "markdown",
   "id": "34615baa",
   "metadata": {},
   "source": [
    "En esta segunda parte como ya hemos mencionado al principio, aplicaremos la técnica de feature importance, para así obtener y analizar la importancia de cada característica para cada modelo entrenado."
   ]
  },
  {
   "cell_type": "markdown",
   "id": "1c470c2f",
   "metadata": {},
   "source": [
    "La regresión logística y el preceptron al ser modelos lineales se reducen a una ecuación en la que se asignan coeficientes (importancias) a cada valor de entrada.\n",
    "\n",
    "En pocas palabras, si un coeficiente asignado es un número grande (negativo o positivo), tiene cierta influencia en la predicción. Por el contrario, si el coeficiente es cero, no tiene ningún impacto en la predicción. Por otra parte para los arboles de decisión y el random forest se utilizara el atributo que tienen de feature_importance_. "
   ]
  },
  {
   "cell_type": "markdown",
   "id": "e42314cd",
   "metadata": {},
   "source": [
    "## Regresión Logísitca"
   ]
  },
  {
   "cell_type": "code",
   "execution_count": 33,
   "id": "4c23bd05",
   "metadata": {},
   "outputs": [
    {
     "name": "stdout",
     "output_type": "stream",
     "text": [
      "  Attribute  Importance\n",
      "1       Sex    2.455659\n",
      "6     Cabin    0.618018\n",
      "7  Embarked    0.186440\n",
      "5      Fare    0.118054\n",
      "4     Parch   -0.063621\n",
      "3     SibSp   -0.299806\n",
      "2       Age   -0.439943\n",
      "0    Pclass   -0.619870\n"
     ]
    }
   ],
   "source": [
    "importances = pd.DataFrame(data={\n",
    "    'Attribute': X_train.columns,\n",
    "    'Importance': modelo_lr.coef_[0]\n",
    "})\n",
    "importances = importances.sort_values(by='Importance', ascending=False)\n",
    "print(importances)"
   ]
  },
  {
   "cell_type": "code",
   "execution_count": 34,
   "id": "05003367",
   "metadata": {
    "scrolled": true
   },
   "outputs": [
    {
     "data": {
      "image/png": "[encoded data removed]",
      "text/plain": [
       "<Figure size 640x480 with 1 Axes>"
      ]
     },
     "metadata": {},
     "output_type": "display_data"
    }
   ],
   "source": [
    "plt.bar(x=importances['Attribute'], height=importances['Importance'], color='#087E8B')\n",
    "plt.title('Feature importances obtained from coefficients', size=20)\n",
    "plt.xticks(rotation='vertical')\n",
    "plt.show()"
   ]
  },
  {
   "cell_type": "markdown",
   "id": "a83eb848",
   "metadata": {},
   "source": [
    "Como se puede apreciar la caracteristica más importante para el modelo de regresión logística, es el sexo, esto no debe sorprendernos ya que en aquel entonces, en este tipo de situaciones se les daba prioridad a los niños y a las mujeres, de ahí la frase: \"mujeres y niños primero\". Seguidamente las caracteríticas de Cabin y Pclass tiene una importancia alta, podemos intuir que si tenian cabina y/o un ticket de mayor clase tenian más posibilidades de sobrevivir. Veamos los siguientes modelos para comparar."
   ]
  },
  {
   "cell_type": "markdown",
   "id": "de9b4492",
   "metadata": {},
   "source": [
    "## Perceptron"
   ]
  },
  {
   "cell_type": "code",
   "execution_count": 35,
   "id": "4c24491c",
   "metadata": {},
   "outputs": [
    {
     "name": "stdout",
     "output_type": "stream",
     "text": [
      "  Attribute  Importance\n",
      "1       Sex    7.000000\n",
      "5      Fare    4.203054\n",
      "6     Cabin    2.000000\n",
      "2       Age   -0.558090\n",
      "4     Parch   -2.596846\n",
      "7  Embarked   -3.451887\n",
      "3     SibSp   -3.978644\n",
      "0    Pclass   -4.136886\n"
     ]
    }
   ],
   "source": [
    "importances = pd.DataFrame(data={\n",
    "    'Attribute': X_train.columns,\n",
    "    'Importance': modelo_percep.coef_[0]\n",
    "})\n",
    "importances = importances.sort_values(by='Importance', ascending=False)\n",
    "print(importances)"
   ]
  },
  {
   "cell_type": "code",
   "execution_count": 36,
   "id": "e3658b15",
   "metadata": {},
   "outputs": [
    {
     "data": {
      "image/png": "[encoded data removed]",
      "text/plain": [
       "<Figure size 640x480 with 1 Axes>"
      ]
     },
     "metadata": {},
     "output_type": "display_data"
    }
   ],
   "source": [
    "plt.bar(x=importances['Attribute'], height=importances['Importance'], color='#087E8B')\n",
    "plt.title('Feature importances obtained from coefficients', size=20)\n",
    "plt.xticks(rotation='vertical')\n",
    "plt.show()"
   ]
  },
  {
   "cell_type": "markdown",
   "id": "dac409ec",
   "metadata": {},
   "source": [
    "Como podemos ver el género vuelve a ser la característica ganadora. Además de esto podemos ver que Fare y Pclass tienen bastante importancia, por tanto la hipótesis de que de tener más dinero o ser de una clase social más alta, aumentaba las probabilidades de sobrevivir parace ser cierta."
   ]
  },
  {
   "cell_type": "markdown",
   "id": "d343aca3",
   "metadata": {},
   "source": [
    "## Decision Tree"
   ]
  },
  {
   "cell_type": "code",
   "execution_count": 37,
   "id": "8ab74d64",
   "metadata": {
    "scrolled": false
   },
   "outputs": [
    {
     "name": "stdout",
     "output_type": "stream",
     "text": [
      "  Attribute  Importance\n",
      "1       Sex    0.297225\n",
      "5      Fare    0.244959\n",
      "2       Age    0.210933\n",
      "0    Pclass    0.106949\n",
      "3     SibSp    0.056776\n",
      "7  Embarked    0.033019\n",
      "6     Cabin    0.032351\n",
      "4     Parch    0.017789\n"
     ]
    }
   ],
   "source": [
    "importances = pd.DataFrame(data={\n",
    "    'Attribute': X_train.columns,\n",
    "    'Importance': modelo_tree.feature_importances_\n",
    "})\n",
    "importances = importances.sort_values(by='Importance', ascending=False)\n",
    "print(importances)"
   ]
  },
  {
   "cell_type": "code",
   "execution_count": 38,
   "id": "65a71a16",
   "metadata": {
    "scrolled": true
   },
   "outputs": [
    {
     "data": {
      "image/png": "[encoded data removed]",
      "text/plain": [
       "<Figure size 640x480 with 1 Axes>"
      ]
     },
     "metadata": {},
     "output_type": "display_data"
    }
   ],
   "source": [
    "plt.bar(x=importances['Attribute'], height=importances['Importance'], color='#087E8B')\n",
    "plt.title('Feature importances obtained from coefficients', size=20)\n",
    "plt.xticks(rotation='vertical')\n",
    "plt.show()"
   ]
  },
  {
   "cell_type": "markdown",
   "id": "079fc289",
   "metadata": {},
   "source": [
    "Según el modelo del arbol de decisión otra vez el sexo, adquiere más importancia, además de esto siguen el Fare y la edad, por tanto, como hemos dicho antes, ser mujer y niño parecen ser las características más importantes a la hora de sobrevivir."
   ]
  },
  {
   "cell_type": "markdown",
   "id": "68300c2c",
   "metadata": {},
   "source": [
    "## Random Forest"
   ]
  },
  {
   "cell_type": "code",
   "execution_count": 39,
   "id": "aef96ea5",
   "metadata": {},
   "outputs": [
    {
     "name": "stdout",
     "output_type": "stream",
     "text": [
      "  Attribute  Importance\n",
      "5      Fare    0.260193\n",
      "2       Age    0.245403\n",
      "1       Sex    0.243040\n",
      "0    Pclass    0.075167\n",
      "3     SibSp    0.049468\n",
      "6     Cabin    0.046128\n",
      "7  Embarked    0.042627\n",
      "4     Parch    0.037974\n"
     ]
    }
   ],
   "source": [
    "importances = pd.DataFrame(data={\n",
    "    'Attribute': X_train.columns,\n",
    "    'Importance': modelo_Forest.feature_importances_\n",
    "})\n",
    "importances = importances.sort_values(by='Importance', ascending=False)\n",
    "print(importances)"
   ]
  },
  {
   "cell_type": "code",
   "execution_count": 40,
   "id": "6ee4182c",
   "metadata": {},
   "outputs": [
    {
     "data": {
      "image/png": "[encoded data removed]",
      "text/plain": [
       "<Figure size 640x480 with 1 Axes>"
      ]
     },
     "metadata": {},
     "output_type": "display_data"
    }
   ],
   "source": [
    "plt.bar(x=importances['Attribute'], height=importances['Importance'], color='#087E8B')\n",
    "plt.title('Feature importances obtained from coefficients', size=20)\n",
    "plt.xticks(rotation='vertical')\n",
    "plt.show()"
   ]
  },
  {
   "cell_type": "markdown",
   "id": "db0f79e3",
   "metadata": {},
   "source": [
    "Finalmente para el random forest las caracteristicas de Fare, Sex y Age, seguidas de PClass son las ganadoras, nuevamente cumpliendo nuestra hipotésis."
   ]
  },
  {
   "cell_type": "markdown",
   "id": "a9a9601c",
   "metadata": {},
   "source": [
    "# Conclusiones"
   ]
  },
  {
   "cell_type": "markdown",
   "id": "730591a6",
   "metadata": {},
   "source": [
    "Como hemos podido apreciar en este trabajo, los clasificadores no lineales, como los modelos de arboles se comportan mejor, o rinden mejor en entornos con datos más complejos, o \"del mundo real\", estos funcionan dividiendo el conjunto de datos, en una estructura similar a un árbol, en subconjuntos cada vez más pequeños y luego hacen predicciones basadas en en qué subconjunto caería un nuevo ejemplo.\n",
    "\n",
    "Por otra parte en cuanto al problema de supervivencia del Titanic, como hemos visto mediante las feature importances de cada modelo, las características más importantes en general a la hora de predecir si los pasajeros sobrevivieron o no han sido: el sexo, el Fare, Cabin, Age y PClass. Por tanto podemos deducir que se aplicaba el código de conducta \"Mujeres y niños primero\", a la hora de acceder a los botes salvavidas etcétera. Además se ve que si los pasajeros eran de primera clase, o tenían más dinero, tenían más ventajas a la hora de acceder a los botes, aumentando así las probabilidades de sobrevivir."
   ]
  }
 ],
 "metadata": {
  "kernelspec": {
   "display_name": "Python 3 (ipykernel)",
   "language": "python",
   "name": "python3"
  },
  "language_info": {
   "codemirror_mode": {
    "name": "ipython",
    "version": 3
   },
   "file_extension": ".py",
   "mimetype": "text/x-python",
   "name": "python",
   "nbconvert_exporter": "python",
   "pygments_lexer": "ipython3",
   "version": "3.10.4"
  },
  "vscode": {
   "interpreter": {
    "hash": "6ab921f0f01e05fe588a5120f6d599841789afe12047afb1094f6749897cec1f"
   }
  }
 },
 "nbformat": 4,
 "nbformat_minor": 5
}
